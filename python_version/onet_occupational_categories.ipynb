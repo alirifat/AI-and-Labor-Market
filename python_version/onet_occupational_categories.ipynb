{
 "cells": [
  {
   "cell_type": "markdown",
   "metadata": {},
   "source": [
    "# O\\*NET Occupational Categories"
   ]
  },
  {
   "cell_type": "markdown",
   "metadata": {},
   "source": [
    "* O\\*NET categorized detailed occupations into categories such as __Bright Outlook__, __Green Economy Sector__, __STEM__ and __New & Emerging__.\n",
    "* The first three categories can be reached from the [link](#https://www.onetonline.org/find/) and _New & Emerging_ occupations can be reached from [here](https://www.onetcenter.org/reports/NewEmerging.html).\n",
    "* The aim is to merge all categories into one file and match the occupational titles with O\\*NET data to identify important _abilities, knowledge, skills_ and _work activities_ for each category. Also, the data will be used to measure if any observed difference (premium) between categories in terms of earnings."
   ]
  },
  {
   "cell_type": "markdown",
   "metadata": {},
   "source": [
    "# Table of Contents\n",
    "\n",
    "1. [Bright Occupations](#Bright-Occupations)\n",
    "2. [Green Occupations](#Green-Occupations)\n",
    "3. [STEM Occupations](#STEM-Occupations)\n",
    "4. [New & Emerging Occupations](#New-&-Emerging-Occupations)\n",
    "5. [All Categories into One](#All-Categories-into-One)\n",
    "6. [O\\*NET-SOC Occupations and Occupation Categories](#O\\*NET-SOC-Occupations-and-Occupation-Categories)\n",
    "    \n",
    "    6.1. [Number of Occupations in Each Category](#Number-of-Occupations-in-Each-Category)\n",
    "    \n",
    "    6.2. [Number of O\\*NET-SOC Occupations in Each Category](#Number-of-O\\*NET-SOC-Occupations-in-Each-Category)\n",
    "    \n",
    "    6.3. [Number of Occupations with O\\*NET data in Each Category](#Number-of-Occupations-with-O\\*NET-data-in-Each-Category)\n",
    "    \n",
    "    6.4. [Number of Overlapping Occupations in Each Category](#Number-of-Overlapping-Occupations-in-Each-Category)"
   ]
  },
  {
   "cell_type": "code",
   "execution_count": 1,
   "metadata": {},
   "outputs": [
    {
     "data": {
      "text/html": [
       "<style>.container { width:80% !important; }</style>"
      ],
      "text/plain": [
       "<IPython.core.display.HTML object>"
      ]
     },
     "metadata": {},
     "output_type": "display_data"
    }
   ],
   "source": [
    "from IPython.core.display import display, HTML\n",
    "display(HTML('<style>.container { width:80% !important; }</style>'))\n",
    "from sklearn.preprocessing import OneHotEncoder\n",
    "import pandas as pd\n",
    "import numpy as np\n",
    "enc = OneHotEncoder()"
   ]
  },
  {
   "cell_type": "markdown",
   "metadata": {},
   "source": [
    "# Bright Occupations"
   ]
  },
  {
   "cell_type": "markdown",
   "metadata": {},
   "source": [
    "Data can be obtained from the [link](https://www.onetonline.org/find/bright?b=0&g=Go)\n",
    "\n",
    "* __Rapid Growth__: projected to grow faster than average (employment increase of 7% or more) over the period 2018-2028\n",
    "* __Numerous Job Openings__:  projected to have 100,000 or more job openings over the period 2018-2028"
   ]
  },
  {
   "cell_type": "markdown",
   "metadata": {},
   "source": [
    "* `onetsoccode`: O\\*NET detailed occupation code\n",
    "* `title`: O\\*NET detailed occupation title\n",
    "* `num_job_open`: (dummy) if occupations is considered a __Numerous Job Openings__ occupation\n",
    "* `rapid_growth`: (dummy) if occupations is considered a __Rapid Growth__ occupation"
   ]
  },
  {
   "cell_type": "code",
   "execution_count": 2,
   "metadata": {
    "scrolled": true
   },
   "outputs": [
    {
     "data": {
      "text/html": [
       "<div>\n",
       "<style scoped>\n",
       "    .dataframe tbody tr th:only-of-type {\n",
       "        vertical-align: middle;\n",
       "    }\n",
       "\n",
       "    .dataframe tbody tr th {\n",
       "        vertical-align: top;\n",
       "    }\n",
       "\n",
       "    .dataframe thead th {\n",
       "        text-align: right;\n",
       "    }\n",
       "</style>\n",
       "<table border=\"1\" class=\"dataframe\">\n",
       "  <thead>\n",
       "    <tr style=\"text-align: right;\">\n",
       "      <th></th>\n",
       "      <th>onetsoccode</th>\n",
       "      <th>title</th>\n",
       "      <th>num_job_open</th>\n",
       "      <th>rapid_growth</th>\n",
       "    </tr>\n",
       "  </thead>\n",
       "  <tbody>\n",
       "    <tr>\n",
       "      <th>0</th>\n",
       "      <td>13-2011.01</td>\n",
       "      <td>Accountants</td>\n",
       "      <td>1.0</td>\n",
       "      <td>1.0</td>\n",
       "    </tr>\n",
       "    <tr>\n",
       "      <th>1</th>\n",
       "      <td>13-2011.00</td>\n",
       "      <td>Accountants and Auditors</td>\n",
       "      <td>1.0</td>\n",
       "      <td>1.0</td>\n",
       "    </tr>\n",
       "    <tr>\n",
       "      <th>2</th>\n",
       "      <td>27-2011.00</td>\n",
       "      <td>Actors</td>\n",
       "      <td>0.0</td>\n",
       "      <td>1.0</td>\n",
       "    </tr>\n",
       "    <tr>\n",
       "      <th>3</th>\n",
       "      <td>15-2011.00</td>\n",
       "      <td>Actuaries</td>\n",
       "      <td>0.0</td>\n",
       "      <td>1.0</td>\n",
       "    </tr>\n",
       "    <tr>\n",
       "      <th>4</th>\n",
       "      <td>29-1199.01</td>\n",
       "      <td>Acupuncturists</td>\n",
       "      <td>0.0</td>\n",
       "      <td>1.0</td>\n",
       "    </tr>\n",
       "  </tbody>\n",
       "</table>\n",
       "</div>"
      ],
      "text/plain": [
       "  onetsoccode                     title  num_job_open  rapid_growth\n",
       "0  13-2011.01               Accountants           1.0           1.0\n",
       "1  13-2011.00  Accountants and Auditors           1.0           1.0\n",
       "2  27-2011.00                    Actors           0.0           1.0\n",
       "3  15-2011.00                 Actuaries           0.0           1.0\n",
       "4  29-1199.01            Acupuncturists           0.0           1.0"
      ]
     },
     "execution_count": 2,
     "metadata": {},
     "output_type": "execute_result"
    }
   ],
   "source": [
    "df_bright = pd.read_csv('csv_files/ONET_occ_categories/All_Bright_Outlook_Occupations.csv')\n",
    "# encode categorical variable 1: rapid_growth 0: num_job_open\n",
    "df_encoded = pd.DataFrame(enc.fit_transform(df_bright[['Categories']]).toarray())\n",
    "df_bright = df_bright.join(df_encoded) # add encoded columns\n",
    "df_bright.columns = ['onetsoccode', 'title', 'categories',\n",
    "                     'num_job_open', 'rapid_growth', 'both']\n",
    "df_bright['num_job_open'] = df_bright['num_job_open'] + df_bright['both']\n",
    "df_bright['rapid_growth'] = df_bright['rapid_growth'] + df_bright['both']\n",
    "df_bright.drop(['categories', 'both'], axis=1, inplace=True)\n",
    "df_bright.head()"
   ]
  },
  {
   "cell_type": "markdown",
   "metadata": {},
   "source": [
    "# Green Occupations"
   ]
  },
  {
   "cell_type": "markdown",
   "metadata": {},
   "source": [
    "Data can be obtained from the [link](https://www.onetcenter.org/dictionary/22.0/excel/green_occupations.html)\n",
    "\n",
    "* __Green New & Emerging__: The impact of green economy activities and technologies is sufficient to create the need for unique work and worker requirements, which results in the generation of new occupations.\n",
    "* __Green Enhanced Skills__: The impact of green economy activities and technologies results in a significant change to the work and worker requirements of an existing O*NET-SOC occupation.\n",
    "* __Green Increased Demand__: The impact of green economy activities and technologies results in an increase in employment demand, but does not entail significant changes in the work and worker requirements of the occupation.\n",
    "\n",
    "For detailed information, visit the [report](https://www.onetcenter.org/dl_files/Green.pdf)"
   ]
  },
  {
   "cell_type": "markdown",
   "metadata": {},
   "source": [
    "* `onetsoccode`: O\\*NET detailed occupation code\n",
    "* `title`: O\\*NET detailed occupation title\n",
    "* `green_enhanced`: (dummy) if occupations is considered a __Green Enhanced Skills__ occupation\n",
    "* `green_increased`: (dummy) if occupations is considered a __Green Increased Demand__ occupation\n",
    "* `green_new_emerging`: (dummy) if occupations is considered a __Green New & Emerging__ occupation\n",
    "* `sectors`: The sector that the occupation is belong to"
   ]
  },
  {
   "cell_type": "code",
   "execution_count": 3,
   "metadata": {
    "scrolled": true
   },
   "outputs": [
    {
     "data": {
      "text/html": [
       "<div>\n",
       "<style scoped>\n",
       "    .dataframe tbody tr th:only-of-type {\n",
       "        vertical-align: middle;\n",
       "    }\n",
       "\n",
       "    .dataframe tbody tr th {\n",
       "        vertical-align: top;\n",
       "    }\n",
       "\n",
       "    .dataframe thead th {\n",
       "        text-align: right;\n",
       "    }\n",
       "</style>\n",
       "<table border=\"1\" class=\"dataframe\">\n",
       "  <thead>\n",
       "    <tr style=\"text-align: right;\">\n",
       "      <th></th>\n",
       "      <th>onetsoccode</th>\n",
       "      <th>title</th>\n",
       "      <th>sectors</th>\n",
       "      <th>green_enhanced</th>\n",
       "      <th>green_increased</th>\n",
       "      <th>green_new_emerging</th>\n",
       "    </tr>\n",
       "  </thead>\n",
       "  <tbody>\n",
       "    <tr>\n",
       "      <th>0</th>\n",
       "      <td>17-2011.00</td>\n",
       "      <td>Aerospace Engineers</td>\n",
       "      <td>Research, Design, and Consulting Services; Tra...</td>\n",
       "      <td>1.0</td>\n",
       "      <td>0.0</td>\n",
       "      <td>0.0</td>\n",
       "    </tr>\n",
       "    <tr>\n",
       "      <th>1</th>\n",
       "      <td>45-2011.00</td>\n",
       "      <td>Agricultural Inspectors</td>\n",
       "      <td>Agriculture and Forestry; Governmental and Reg...</td>\n",
       "      <td>0.0</td>\n",
       "      <td>1.0</td>\n",
       "      <td>0.0</td>\n",
       "    </tr>\n",
       "    <tr>\n",
       "      <th>2</th>\n",
       "      <td>19-4011.01</td>\n",
       "      <td>Agricultural Technicians</td>\n",
       "      <td>Agriculture and Forestry</td>\n",
       "      <td>1.0</td>\n",
       "      <td>0.0</td>\n",
       "      <td>0.0</td>\n",
       "    </tr>\n",
       "    <tr>\n",
       "      <th>3</th>\n",
       "      <td>51-2011.00</td>\n",
       "      <td>Aircraft Structure, Surfaces, Rigging, and Sys...</td>\n",
       "      <td>Manufacturing</td>\n",
       "      <td>1.0</td>\n",
       "      <td>0.0</td>\n",
       "      <td>0.0</td>\n",
       "    </tr>\n",
       "    <tr>\n",
       "      <th>4</th>\n",
       "      <td>23-1022.00</td>\n",
       "      <td>Arbitrators, Mediators, and Conciliators</td>\n",
       "      <td>Governmental and Regulatory Administration; Re...</td>\n",
       "      <td>1.0</td>\n",
       "      <td>0.0</td>\n",
       "      <td>0.0</td>\n",
       "    </tr>\n",
       "  </tbody>\n",
       "</table>\n",
       "</div>"
      ],
      "text/plain": [
       "  onetsoccode                                              title  \\\n",
       "0  17-2011.00                                Aerospace Engineers   \n",
       "1  45-2011.00                            Agricultural Inspectors   \n",
       "2  19-4011.01                           Agricultural Technicians   \n",
       "3  51-2011.00  Aircraft Structure, Surfaces, Rigging, and Sys...   \n",
       "4  23-1022.00           Arbitrators, Mediators, and Conciliators   \n",
       "\n",
       "                                             sectors  green_enhanced  \\\n",
       "0  Research, Design, and Consulting Services; Tra...             1.0   \n",
       "1  Agriculture and Forestry; Governmental and Reg...             0.0   \n",
       "2                           Agriculture and Forestry             1.0   \n",
       "3                                      Manufacturing             1.0   \n",
       "4  Governmental and Regulatory Administration; Re...             1.0   \n",
       "\n",
       "   green_increased  green_new_emerging  \n",
       "0              0.0                 0.0  \n",
       "1              1.0                 0.0  \n",
       "2              0.0                 0.0  \n",
       "3              0.0                 0.0  \n",
       "4              0.0                 0.0  "
      ]
     },
     "execution_count": 3,
     "metadata": {},
     "output_type": "execute_result"
    }
   ],
   "source": [
    "df_green = pd.read_csv('csv_files/ONET_occ_categories/All_Green_Economy_Sectors.csv')\n",
    "df_encoded = pd.DataFrame(enc.fit_transform(df_green[['Category']]).toarray())\n",
    "df_green = df_green.join(df_encoded)\n",
    "df_green.columns = ['category', 'onetsoccode', 'title', 'sectors',\n",
    "                    'green_enhanced', 'green_increased', 'green_new_emerging']\n",
    "df_green.drop('category', axis=1, inplace=True)\n",
    "df_green.head()"
   ]
  },
  {
   "cell_type": "markdown",
   "metadata": {},
   "source": [
    "# STEM Occupations"
   ]
  },
  {
   "cell_type": "markdown",
   "metadata": {},
   "source": [
    "Data can be obtained from the [link](https://www.onetonline.org/find/stem?t=0)\n",
    "\n",
    "* STEM occupations are divided into 5 categories:\n",
    "    1. Managerial STEM Occupations\n",
    "    2. Postsecondary Teaching STEM Occupations\n",
    "    3. Research, Development, Design and Practitioners STEM Occupations\n",
    "    4. Sales STEM Occupations\n",
    "    5. Technologists and Technicians STEM Occupations"
   ]
  },
  {
   "cell_type": "markdown",
   "metadata": {},
   "source": [
    "* `onetsoccode`: O\\*NET detailed occupation code\n",
    "* `title`: O\\*NET detailed occupation title\n",
    "* `managerial`: (dummy) if occupations is considered a __Managerial STEM Occupations__\n",
    "* `post_teaching`: (dummy) if occupations is considered a __Postsecondary Teaching STEM Occupations__\n",
    "* `research_dev`: (dummy) if occupations is considered a __Research, Development, Design and Practitioners STEM Occupations__\n",
    "* `sales`: (dummy) if occupations is considered a __Sales STEM Occupations__\n",
    "* `tech`: (dummy) if occupations is considered a __Technologists and Technicians STEM Occupations__"
   ]
  },
  {
   "cell_type": "code",
   "execution_count": 4,
   "metadata": {
    "scrolled": true
   },
   "outputs": [
    {
     "data": {
      "text/html": [
       "<div>\n",
       "<style scoped>\n",
       "    .dataframe tbody tr th:only-of-type {\n",
       "        vertical-align: middle;\n",
       "    }\n",
       "\n",
       "    .dataframe tbody tr th {\n",
       "        vertical-align: top;\n",
       "    }\n",
       "\n",
       "    .dataframe thead th {\n",
       "        text-align: right;\n",
       "    }\n",
       "</style>\n",
       "<table border=\"1\" class=\"dataframe\">\n",
       "  <thead>\n",
       "    <tr style=\"text-align: right;\">\n",
       "      <th></th>\n",
       "      <th>onetsoccode</th>\n",
       "      <th>title</th>\n",
       "      <th>managerial</th>\n",
       "      <th>post_teaching</th>\n",
       "      <th>research_dev</th>\n",
       "      <th>sales</th>\n",
       "      <th>tech</th>\n",
       "    </tr>\n",
       "  </thead>\n",
       "  <tbody>\n",
       "    <tr>\n",
       "      <th>0</th>\n",
       "      <td>15-2011.00</td>\n",
       "      <td>Actuaries</td>\n",
       "      <td>0.0</td>\n",
       "      <td>0.0</td>\n",
       "      <td>1.0</td>\n",
       "      <td>0.0</td>\n",
       "      <td>0.0</td>\n",
       "    </tr>\n",
       "    <tr>\n",
       "      <th>1</th>\n",
       "      <td>29-1199.01</td>\n",
       "      <td>Acupuncturists</td>\n",
       "      <td>0.0</td>\n",
       "      <td>0.0</td>\n",
       "      <td>1.0</td>\n",
       "      <td>0.0</td>\n",
       "      <td>0.0</td>\n",
       "    </tr>\n",
       "    <tr>\n",
       "      <th>2</th>\n",
       "      <td>29-1141.01</td>\n",
       "      <td>Acute Care Nurses</td>\n",
       "      <td>0.0</td>\n",
       "      <td>0.0</td>\n",
       "      <td>1.0</td>\n",
       "      <td>0.0</td>\n",
       "      <td>0.0</td>\n",
       "    </tr>\n",
       "    <tr>\n",
       "      <th>3</th>\n",
       "      <td>29-1141.02</td>\n",
       "      <td>Advanced Practice Psychiatric Nurses</td>\n",
       "      <td>0.0</td>\n",
       "      <td>0.0</td>\n",
       "      <td>1.0</td>\n",
       "      <td>0.0</td>\n",
       "      <td>0.0</td>\n",
       "    </tr>\n",
       "    <tr>\n",
       "      <th>4</th>\n",
       "      <td>17-3021.00</td>\n",
       "      <td>Aerospace Engineering and Operations Technicians</td>\n",
       "      <td>0.0</td>\n",
       "      <td>0.0</td>\n",
       "      <td>0.0</td>\n",
       "      <td>0.0</td>\n",
       "      <td>1.0</td>\n",
       "    </tr>\n",
       "  </tbody>\n",
       "</table>\n",
       "</div>"
      ],
      "text/plain": [
       "  onetsoccode                                             title  managerial  \\\n",
       "0  15-2011.00                                         Actuaries         0.0   \n",
       "1  29-1199.01                                    Acupuncturists         0.0   \n",
       "2  29-1141.01                                 Acute Care Nurses         0.0   \n",
       "3  29-1141.02              Advanced Practice Psychiatric Nurses         0.0   \n",
       "4  17-3021.00  Aerospace Engineering and Operations Technicians         0.0   \n",
       "\n",
       "   post_teaching  research_dev  sales  tech  \n",
       "0            0.0           1.0    0.0   0.0  \n",
       "1            0.0           1.0    0.0   0.0  \n",
       "2            0.0           1.0    0.0   0.0  \n",
       "3            0.0           1.0    0.0   0.0  \n",
       "4            0.0           0.0    0.0   1.0  "
      ]
     },
     "execution_count": 4,
     "metadata": {},
     "output_type": "execute_result"
    }
   ],
   "source": [
    "df_stem = pd.read_csv('csv_files/ONET_occ_categories/All_STEM_Occupations.csv')\n",
    "df_encoded = pd.DataFrame(enc.fit_transform(df_stem[['Occupation Types']]).toarray())\n",
    "df_stem = df_stem.join(df_encoded)\n",
    "df_stem.columns = ['onetsoccode', 'title', 'categories', 'managerial',\n",
    "                   'post_teaching', 'research_dev', 'sales' ,'tech']\n",
    "df_stem.drop('categories', axis=1, inplace=True)\n",
    "df_stem.head()"
   ]
  },
  {
   "cell_type": "markdown",
   "metadata": {},
   "source": [
    "# New & Emerging Occupations"
   ]
  },
  {
   "cell_type": "markdown",
   "metadata": {},
   "source": [
    "Data can be obtained from the [link](https://www.onetcenter.org/reports/UpdatingTaxonomy2009.html)."
   ]
  },
  {
   "cell_type": "markdown",
   "metadata": {},
   "source": [
    "* `onetsoccode`: O\\*NET detailed occupation code\n",
    "* `title`: O\\*NET detailed occupation title"
   ]
  },
  {
   "cell_type": "code",
   "execution_count": 5,
   "metadata": {
    "scrolled": true
   },
   "outputs": [
    {
     "data": {
      "text/html": [
       "<div>\n",
       "<style scoped>\n",
       "    .dataframe tbody tr th:only-of-type {\n",
       "        vertical-align: middle;\n",
       "    }\n",
       "\n",
       "    .dataframe tbody tr th {\n",
       "        vertical-align: top;\n",
       "    }\n",
       "\n",
       "    .dataframe thead th {\n",
       "        text-align: right;\n",
       "    }\n",
       "</style>\n",
       "<table border=\"1\" class=\"dataframe\">\n",
       "  <thead>\n",
       "    <tr style=\"text-align: right;\">\n",
       "      <th></th>\n",
       "      <th>title</th>\n",
       "    </tr>\n",
       "    <tr>\n",
       "      <th>onetsoccode</th>\n",
       "      <th></th>\n",
       "    </tr>\n",
       "  </thead>\n",
       "  <tbody>\n",
       "    <tr>\n",
       "      <th>11-1011.03</th>\n",
       "      <td>Chief Sustainability Officers</td>\n",
       "    </tr>\n",
       "    <tr>\n",
       "      <th>11-2011.01</th>\n",
       "      <td>Green Marketers</td>\n",
       "    </tr>\n",
       "    <tr>\n",
       "      <th>11-3051.01</th>\n",
       "      <td>Quality Control Systems Managers</td>\n",
       "    </tr>\n",
       "    <tr>\n",
       "      <th>11-3051.02</th>\n",
       "      <td>Geothermal Production Managers</td>\n",
       "    </tr>\n",
       "    <tr>\n",
       "      <th>11-3051.03</th>\n",
       "      <td>Biofuels Production Managers</td>\n",
       "    </tr>\n",
       "  </tbody>\n",
       "</table>\n",
       "</div>"
      ],
      "text/plain": [
       "                                        title\n",
       "onetsoccode                                  \n",
       "11-1011.03      Chief Sustainability Officers\n",
       "11-2011.01                    Green Marketers\n",
       "11-3051.01   Quality Control Systems Managers\n",
       "11-3051.02     Geothermal Production Managers\n",
       "11-3051.03       Biofuels Production Managers"
      ]
     },
     "execution_count": 5,
     "metadata": {},
     "output_type": "execute_result"
    }
   ],
   "source": [
    "df_taxonomy2009 = pd.read_excel('csv_files/ONET_occ_categories/UpdatingTaxonomy2009_AppB.xls')\n",
    "df_taxonomy2009 = df_taxonomy2009.iloc[3:, :]\n",
    "df_taxonomy2009.dropna(inplace=True)\n",
    "df_taxonomy2009.columns = ['onetsoccode', 'title']\n",
    "df_taxonomy2009.title = df_taxonomy2009.title.apply(\n",
    "                                lambda x: x[:-1] if x.endswith('*') else x)\n",
    "df_taxonomy2009.set_index('onetsoccode', inplace=True)\n",
    "df_taxonomy2009.head()"
   ]
  },
  {
   "cell_type": "markdown",
   "metadata": {},
   "source": [
    "* Since those titles are belong to O\\*NET Taxonomy 2009, it is required to update O\\*NET Detailed Occupational Codes and Titles according to O\\*NET Taxonomy 2010. For this reason, __2009-2010__ crosswalk is used to track the changes in codes and titles as well as the splits in occupational titles."
   ]
  },
  {
   "cell_type": "code",
   "execution_count": 6,
   "metadata": {
    "scrolled": true
   },
   "outputs": [
    {
     "data": {
      "text/html": [
       "<div>\n",
       "<style scoped>\n",
       "    .dataframe tbody tr th:only-of-type {\n",
       "        vertical-align: middle;\n",
       "    }\n",
       "\n",
       "    .dataframe tbody tr th {\n",
       "        vertical-align: top;\n",
       "    }\n",
       "\n",
       "    .dataframe thead th {\n",
       "        text-align: right;\n",
       "    }\n",
       "</style>\n",
       "<table border=\"1\" class=\"dataframe\">\n",
       "  <thead>\n",
       "    <tr style=\"text-align: right;\">\n",
       "      <th></th>\n",
       "      <th>O*NET-SOC 2009 Code</th>\n",
       "      <th>O*NET-SOC 2009 Title</th>\n",
       "      <th>O*NET-SOC 2010 Code</th>\n",
       "      <th>O*NET-SOC 2010 Title</th>\n",
       "    </tr>\n",
       "  </thead>\n",
       "  <tbody>\n",
       "    <tr>\n",
       "      <th>0</th>\n",
       "      <td>11-1011.00</td>\n",
       "      <td>Chief Executives</td>\n",
       "      <td>11-1011.00</td>\n",
       "      <td>Chief Executives</td>\n",
       "    </tr>\n",
       "    <tr>\n",
       "      <th>1</th>\n",
       "      <td>11-1011.03</td>\n",
       "      <td>Chief Sustainability Officers</td>\n",
       "      <td>11-1011.03</td>\n",
       "      <td>Chief Sustainability Officers</td>\n",
       "    </tr>\n",
       "    <tr>\n",
       "      <th>2</th>\n",
       "      <td>11-1021.00</td>\n",
       "      <td>General and Operations Managers</td>\n",
       "      <td>11-1021.00</td>\n",
       "      <td>General and Operations Managers</td>\n",
       "    </tr>\n",
       "    <tr>\n",
       "      <th>3</th>\n",
       "      <td>11-1031.00</td>\n",
       "      <td>Legislators</td>\n",
       "      <td>11-1031.00</td>\n",
       "      <td>Legislators</td>\n",
       "    </tr>\n",
       "    <tr>\n",
       "      <th>4</th>\n",
       "      <td>11-2011.00</td>\n",
       "      <td>Advertising and Promotions Managers</td>\n",
       "      <td>11-2011.00</td>\n",
       "      <td>Advertising and Promotions Managers</td>\n",
       "    </tr>\n",
       "  </tbody>\n",
       "</table>\n",
       "</div>"
      ],
      "text/plain": [
       "  O*NET-SOC 2009 Code                 O*NET-SOC 2009 Title  \\\n",
       "0          11-1011.00                     Chief Executives   \n",
       "1          11-1011.03        Chief Sustainability Officers   \n",
       "2          11-1021.00      General and Operations Managers   \n",
       "3          11-1031.00                          Legislators   \n",
       "4          11-2011.00  Advertising and Promotions Managers   \n",
       "\n",
       "  O*NET-SOC 2010 Code                 O*NET-SOC 2010 Title  \n",
       "0          11-1011.00                     Chief Executives  \n",
       "1          11-1011.03        Chief Sustainability Officers  \n",
       "2          11-1021.00      General and Operations Managers  \n",
       "3          11-1031.00                          Legislators  \n",
       "4          11-2011.00  Advertising and Promotions Managers  "
      ]
     },
     "execution_count": 6,
     "metadata": {},
     "output_type": "execute_result"
    }
   ],
   "source": [
    "df_emerging = pd.read_csv('csv_files/Crosswalks/2009_to_2010_Crosswalk.csv')\n",
    "df_emerging.head()"
   ]
  },
  {
   "cell_type": "code",
   "execution_count": 7,
   "metadata": {
    "scrolled": false
   },
   "outputs": [
    {
     "data": {
      "text/html": [
       "<div>\n",
       "<style scoped>\n",
       "    .dataframe tbody tr th:only-of-type {\n",
       "        vertical-align: middle;\n",
       "    }\n",
       "\n",
       "    .dataframe tbody tr th {\n",
       "        vertical-align: top;\n",
       "    }\n",
       "\n",
       "    .dataframe thead th {\n",
       "        text-align: right;\n",
       "    }\n",
       "</style>\n",
       "<table border=\"1\" class=\"dataframe\">\n",
       "  <thead>\n",
       "    <tr style=\"text-align: right;\">\n",
       "      <th></th>\n",
       "      <th>onetsoccode</th>\n",
       "      <th>title</th>\n",
       "    </tr>\n",
       "  </thead>\n",
       "  <tbody>\n",
       "    <tr>\n",
       "      <th>0</th>\n",
       "      <td>11-1011.03</td>\n",
       "      <td>Chief Sustainability Officers</td>\n",
       "    </tr>\n",
       "    <tr>\n",
       "      <th>1</th>\n",
       "      <td>11-2011.01</td>\n",
       "      <td>Green Marketers</td>\n",
       "    </tr>\n",
       "    <tr>\n",
       "      <th>2</th>\n",
       "      <td>11-3051.01</td>\n",
       "      <td>Quality Control Systems Managers</td>\n",
       "    </tr>\n",
       "    <tr>\n",
       "      <th>3</th>\n",
       "      <td>11-3051.02</td>\n",
       "      <td>Geothermal Production Managers</td>\n",
       "    </tr>\n",
       "    <tr>\n",
       "      <th>4</th>\n",
       "      <td>11-3051.03</td>\n",
       "      <td>Biofuels Production Managers</td>\n",
       "    </tr>\n",
       "  </tbody>\n",
       "</table>\n",
       "</div>"
      ],
      "text/plain": [
       "  onetsoccode                             title\n",
       "0  11-1011.03     Chief Sustainability Officers\n",
       "1  11-2011.01                   Green Marketers\n",
       "2  11-3051.01  Quality Control Systems Managers\n",
       "3  11-3051.02    Geothermal Production Managers\n",
       "4  11-3051.03      Biofuels Production Managers"
      ]
     },
     "execution_count": 7,
     "metadata": {},
     "output_type": "execute_result"
    }
   ],
   "source": [
    "df_emerging.columns = ['onetsoccode', 'onetsoc2009title',\n",
    "                       'onetsoc2010code', 'onetsoc2010title']\n",
    "df_emerging.set_index('onetsoccode', inplace=True)\n",
    "df_emerging = df_emerging.join(df_taxonomy2009, how='inner')\n",
    "df_emerging.reset_index(drop=True, inplace=True)\n",
    "df_emerging.drop(['onetsoc2009title', 'title'], axis=1, inplace=True)\n",
    "df_emerging.columns = ['onetsoccode', 'title']\n",
    "df_emerging.head()"
   ]
  },
  {
   "cell_type": "markdown",
   "metadata": {},
   "source": [
    "__Updating onetsoccodes of the new & emeging occupations for database 22.3__\n",
    "* The number of occupations increased to 160 due to the split of _Ophthalmic Medical Technologists and Technicians_ in two separate titles\n",
    "* The following occupational titles had changed the title and\\or code in 2010 taxonomy\n",
    "\n",
    "|ONETOSCCODE 2009|                 TITLE 2009                     |ONETSOCCODE 2010|              TITLE 2010                  |\n",
    "|----------------|------------------------------------------------|----------------|------------------------------------------|\n",
    "|      11-3051.04|Biomass Production Managers                     |      11-3051.04|Biomass Power Plant Managers              |\n",
    "|      25-3099.01|Adaptive Physical Education Specialists         |      25-2059.01|Adapted Physical Education Specialists    |\n",
    "|      29-2099.01|Electroneurodiagnostic Technologists            |      29-2099.01|Neurodiagnostic Technologists             |\n",
    "|      15-1099.12|Electronic Commerce Specialists                 |      15-1199.10|Search Marketing Strategists              |\n",
    "|      33-9099.02|Loss Prevention Specialists                     |      33-9099.02|Retail Loss Prevention Specialists        |\n",
    "|      15-1099.03|Network Designers                               |      15-1143.00|Computer Network Architects               |\n",
    "|      29-2099.03|Ophthalmic Medical Technologists and Technicians|      29-2057.00|Ophthalmic Medical Technicians            |\n",
    "|      29-2099.03|Ophthalmic Medical Technologists and Technicians|      29-2099.05|Ophthalmic Medical Technologists          |\n",
    "|      15-1081.01|Telecommunications Specialists                  |      15-1143.01|Telecommunications Engineering Specialists|\n",
    "|      33-9099.01|Transportation Security Officers                |      33-9093.00|Transportation Security Screeners         |"
   ]
  },
  {
   "cell_type": "markdown",
   "metadata": {},
   "source": [
    "# All Categories into One"
   ]
  },
  {
   "cell_type": "markdown",
   "metadata": {},
   "source": [
    "__Merge Bright and Green Occupations__"
   ]
  },
  {
   "cell_type": "code",
   "execution_count": 8,
   "metadata": {},
   "outputs": [],
   "source": [
    "df_final = df_bright.merge(df_green, on='onetsoccode', how='outer', indicator='merge_green')\n",
    "df_final['bright'] = np.where(df_final.merge_green.isin(['left_only', 'both']), 1, 0)\n",
    "df_final['green'] = np.where(df_final.merge_green.isin(['right_only', 'both']), 1, 0)\n",
    "df_final['onet_title'] = np.where(df_final.title_x.isnull(), df_final.title_y, df_final.title_x)\n",
    "df_final.drop(['title_x', 'title_y', 'merge_green', 'sectors'], axis=1, inplace=True)"
   ]
  },
  {
   "cell_type": "markdown",
   "metadata": {},
   "source": [
    "__Merge STEM Occupations__"
   ]
  },
  {
   "cell_type": "code",
   "execution_count": 9,
   "metadata": {},
   "outputs": [],
   "source": [
    "df_final = df_final.merge(df_stem, on='onetsoccode', how='outer', indicator='merge_stem')\n",
    "df_final['stem'] = np.where(df_final.merge_stem.isin(['right_only', 'both']), 1, 0)\n",
    "df_final['onet_title'] = np.where(df_final.onet_title.isnull(), df_final.title, df_final.onet_title)\n",
    "df_final.drop(['title', 'merge_stem'], axis=1, inplace=True)"
   ]
  },
  {
   "cell_type": "markdown",
   "metadata": {},
   "source": [
    "__Merge New & Emerging Occupations__"
   ]
  },
  {
   "cell_type": "code",
   "execution_count": 10,
   "metadata": {},
   "outputs": [],
   "source": [
    "df_final = df_final.merge(df_emerging, on='onetsoccode', how='outer', indicator='merge_emerging')\n",
    "df_final['emerging'] = np.where(df_final.merge_emerging.isin(['right_only', 'both']), 1, 0)\n",
    "df_final['onet_title'] = np.where(df_final.onet_title.isnull(), df_final.title, df_final.onet_title)\n",
    "df_final.drop(['title', 'merge_emerging'], axis=1, inplace=True)"
   ]
  },
  {
   "cell_type": "code",
   "execution_count": 11,
   "metadata": {
    "scrolled": false
   },
   "outputs": [
    {
     "data": {
      "text/html": [
       "<div>\n",
       "<style scoped>\n",
       "    .dataframe tbody tr th:only-of-type {\n",
       "        vertical-align: middle;\n",
       "    }\n",
       "\n",
       "    .dataframe tbody tr th {\n",
       "        vertical-align: top;\n",
       "    }\n",
       "\n",
       "    .dataframe thead th {\n",
       "        text-align: right;\n",
       "    }\n",
       "</style>\n",
       "<table border=\"1\" class=\"dataframe\">\n",
       "  <thead>\n",
       "    <tr style=\"text-align: right;\">\n",
       "      <th></th>\n",
       "      <th>onetsoccode</th>\n",
       "      <th>onet_title</th>\n",
       "      <th>bright</th>\n",
       "      <th>green</th>\n",
       "      <th>stem</th>\n",
       "      <th>emerging</th>\n",
       "      <th>num_job_open</th>\n",
       "      <th>rapid_growth</th>\n",
       "      <th>green_enhanced</th>\n",
       "      <th>green_increased</th>\n",
       "      <th>green_new_emerging</th>\n",
       "      <th>managerial</th>\n",
       "      <th>post_teaching</th>\n",
       "      <th>research_dev</th>\n",
       "      <th>sales</th>\n",
       "      <th>tech</th>\n",
       "    </tr>\n",
       "  </thead>\n",
       "  <tbody>\n",
       "    <tr>\n",
       "      <th>0</th>\n",
       "      <td>11-1011.03</td>\n",
       "      <td>Chief Sustainability Officers</td>\n",
       "      <td>0.0</td>\n",
       "      <td>1.0</td>\n",
       "      <td>0.0</td>\n",
       "      <td>1</td>\n",
       "      <td>0.0</td>\n",
       "      <td>0.0</td>\n",
       "      <td>0.0</td>\n",
       "      <td>0.0</td>\n",
       "      <td>1.0</td>\n",
       "      <td>0.0</td>\n",
       "      <td>0.0</td>\n",
       "      <td>0.0</td>\n",
       "      <td>0.0</td>\n",
       "      <td>0.0</td>\n",
       "    </tr>\n",
       "    <tr>\n",
       "      <th>1</th>\n",
       "      <td>11-1021.00</td>\n",
       "      <td>General and Operations Managers</td>\n",
       "      <td>1.0</td>\n",
       "      <td>1.0</td>\n",
       "      <td>0.0</td>\n",
       "      <td>0</td>\n",
       "      <td>1.0</td>\n",
       "      <td>0.0</td>\n",
       "      <td>1.0</td>\n",
       "      <td>0.0</td>\n",
       "      <td>0.0</td>\n",
       "      <td>0.0</td>\n",
       "      <td>0.0</td>\n",
       "      <td>0.0</td>\n",
       "      <td>0.0</td>\n",
       "      <td>0.0</td>\n",
       "    </tr>\n",
       "    <tr>\n",
       "      <th>2</th>\n",
       "      <td>11-2011.01</td>\n",
       "      <td>Green Marketers</td>\n",
       "      <td>0.0</td>\n",
       "      <td>1.0</td>\n",
       "      <td>0.0</td>\n",
       "      <td>1</td>\n",
       "      <td>0.0</td>\n",
       "      <td>0.0</td>\n",
       "      <td>0.0</td>\n",
       "      <td>0.0</td>\n",
       "      <td>1.0</td>\n",
       "      <td>0.0</td>\n",
       "      <td>0.0</td>\n",
       "      <td>0.0</td>\n",
       "      <td>0.0</td>\n",
       "      <td>0.0</td>\n",
       "    </tr>\n",
       "    <tr>\n",
       "      <th>3</th>\n",
       "      <td>11-2021.00</td>\n",
       "      <td>Marketing Managers</td>\n",
       "      <td>1.0</td>\n",
       "      <td>1.0</td>\n",
       "      <td>0.0</td>\n",
       "      <td>0</td>\n",
       "      <td>0.0</td>\n",
       "      <td>1.0</td>\n",
       "      <td>1.0</td>\n",
       "      <td>0.0</td>\n",
       "      <td>0.0</td>\n",
       "      <td>0.0</td>\n",
       "      <td>0.0</td>\n",
       "      <td>0.0</td>\n",
       "      <td>0.0</td>\n",
       "      <td>0.0</td>\n",
       "    </tr>\n",
       "    <tr>\n",
       "      <th>4</th>\n",
       "      <td>11-2031.00</td>\n",
       "      <td>Public Relations and Fundraising Managers</td>\n",
       "      <td>1.0</td>\n",
       "      <td>0.0</td>\n",
       "      <td>0.0</td>\n",
       "      <td>0</td>\n",
       "      <td>0.0</td>\n",
       "      <td>1.0</td>\n",
       "      <td>0.0</td>\n",
       "      <td>0.0</td>\n",
       "      <td>0.0</td>\n",
       "      <td>0.0</td>\n",
       "      <td>0.0</td>\n",
       "      <td>0.0</td>\n",
       "      <td>0.0</td>\n",
       "      <td>0.0</td>\n",
       "    </tr>\n",
       "  </tbody>\n",
       "</table>\n",
       "</div>"
      ],
      "text/plain": [
       "  onetsoccode                                 onet_title  bright  green  stem  \\\n",
       "0  11-1011.03              Chief Sustainability Officers     0.0    1.0   0.0   \n",
       "1  11-1021.00            General and Operations Managers     1.0    1.0   0.0   \n",
       "2  11-2011.01                            Green Marketers     0.0    1.0   0.0   \n",
       "3  11-2021.00                         Marketing Managers     1.0    1.0   0.0   \n",
       "4  11-2031.00  Public Relations and Fundraising Managers     1.0    0.0   0.0   \n",
       "\n",
       "   emerging  num_job_open  rapid_growth  green_enhanced  green_increased  \\\n",
       "0         1           0.0           0.0             0.0              0.0   \n",
       "1         0           1.0           0.0             1.0              0.0   \n",
       "2         1           0.0           0.0             0.0              0.0   \n",
       "3         0           0.0           1.0             1.0              0.0   \n",
       "4         0           0.0           1.0             0.0              0.0   \n",
       "\n",
       "   green_new_emerging  managerial  post_teaching  research_dev  sales  tech  \n",
       "0                 1.0         0.0            0.0           0.0    0.0   0.0  \n",
       "1                 0.0         0.0            0.0           0.0    0.0   0.0  \n",
       "2                 1.0         0.0            0.0           0.0    0.0   0.0  \n",
       "3                 0.0         0.0            0.0           0.0    0.0   0.0  \n",
       "4                 0.0         0.0            0.0           0.0    0.0   0.0  "
      ]
     },
     "execution_count": 11,
     "metadata": {},
     "output_type": "execute_result"
    }
   ],
   "source": [
    "ordered = ['onetsoccode', 'onet_title', 'bright', 'green', 'stem', 'emerging']\n",
    "ordered.extend([column for column in df_final.columns if column not in ordered])\n",
    "df_final = df_final[ordered]\n",
    "df_final.sort_values('onetsoccode', inplace=True)\n",
    "df_final.reset_index(drop=True, inplace=True)\n",
    "df_final.fillna(0, inplace=True)\n",
    "df_final.head()"
   ]
  },
  {
   "cell_type": "code",
   "execution_count": 12,
   "metadata": {},
   "outputs": [],
   "source": [
    "df_final.to_csv('onet_occupational_categories.csv', index=False)"
   ]
  },
  {
   "cell_type": "markdown",
   "metadata": {},
   "source": [
    "# O\\*NET-SOC Occupations and Occupation Categories"
   ]
  },
  {
   "cell_type": "markdown",
   "metadata": {},
   "source": [
    "## Number of Occupations in Each Category"
   ]
  },
  {
   "cell_type": "code",
   "execution_count": 13,
   "metadata": {},
   "outputs": [
    {
     "name": "stdout",
     "output_type": "stream",
     "text": [
      "Number of Bright Occupations: 434\n",
      "Number of Green Occupations: 204\n",
      "Number of STEM Occupations: 308\n",
      "Number of New & Emerging Occupations: 160\n"
     ]
    }
   ],
   "source": [
    "print('Number of Bright Occupations: {}'.format(\n",
    "        df_final[df_final.bright == 1].shape[0]))\n",
    "print('Number of Green Occupations: {}'.format(\n",
    "        df_final[df_final.green == 1].shape[0]))\n",
    "print('Number of STEM Occupations: {}'.format(\n",
    "        df_final[df_final.stem == 1].shape[0]))\n",
    "print('Number of New & Emerging Occupations: {}'.format(\n",
    "        df_final[df_final.emerging == 1].shape[0]))"
   ]
  },
  {
   "cell_type": "markdown",
   "metadata": {},
   "source": [
    "## Number of O\\*NET-SOC Occupations in Each Category"
   ]
  },
  {
   "cell_type": "code",
   "execution_count": 14,
   "metadata": {},
   "outputs": [
    {
     "name": "stdout",
     "output_type": "stream",
     "text": [
      "Number of BLS-SOC Occupations in Bright category: 330\n",
      "Number of BLS-SOC Occupations in Green category: 104\n",
      "Number of BLS-SOC Occupations in STEM category: 184\n",
      "Number of BLS-SOC Occupations in Emerging category: 11\n"
     ]
    }
   ],
   "source": [
    "df_final['if_bls'] = df_final.onetsoccode.apply(lambda x: x[-2:])\n",
    "print('Number of BLS-SOC Occupations in Bright category: {}'.format(\n",
    "        df_final[(df_final.bright == 1) & (df_final.if_bls == '00')].shape[0]))\n",
    "print('Number of BLS-SOC Occupations in Green category: {}'.format(\n",
    "        df_final[(df_final.green == 1) & (df_final.if_bls == '00')].shape[0]))\n",
    "print('Number of BLS-SOC Occupations in STEM category: {}'.format(\n",
    "        df_final[(df_final.stem == 1) & (df_final.if_bls == '00')].shape[0]))\n",
    "print('Number of BLS-SOC Occupations in Emerging category: {}'.format(\n",
    "        df_final[(df_final.emerging == 1) & (df_final.if_bls == '00')].shape[0]))"
   ]
  },
  {
   "cell_type": "markdown",
   "metadata": {},
   "source": [
    "## Number of Occupations with O\\*NET data in Each Category"
   ]
  },
  {
   "cell_type": "code",
   "execution_count": 15,
   "metadata": {},
   "outputs": [],
   "source": [
    "df_onet = pd.read_csv('onet_data.csv')\n",
    "df_onet = df_onet['onetsoccode']\n",
    "df_final = df_final.merge(df_onet, on='onetsoccode', indicator='onet_data')\n",
    "df_final.onet_data = np.where(df_final.onet_data.isin(['left_only', 'both']), \n",
    "                                 1, 0)"
   ]
  },
  {
   "cell_type": "code",
   "execution_count": 16,
   "metadata": {
    "scrolled": true
   },
   "outputs": [
    {
     "name": "stdout",
     "output_type": "stream",
     "text": [
      "Number of Bright Occupations with O*NET data: 388\n",
      "Number of Green Occupations with O*NET data: 199\n",
      "Number of STEM Occupations with O*NET data: 276\n",
      "Number of Emerging Occupations with O*NET data: 154\n"
     ]
    }
   ],
   "source": [
    "print('Number of Bright Occupations with O*NET data: {}'.format(\n",
    "        df_final[(df_final.bright == 1) & (df_final.onet_data == 1)].shape[0]))\n",
    "print('Number of Green Occupations with O*NET data: {}'.format(\n",
    "        df_final[(df_final.green == 1) & (df_final.onet_data == 1)].shape[0]))\n",
    "print('Number of STEM Occupations with O*NET data: {}'.format(\n",
    "        df_final[(df_final.stem == 1) & (df_final.onet_data == 1)].shape[0]))\n",
    "print('Number of Emerging Occupations with O*NET data: {}'.format(\n",
    "        df_final[(df_final.emerging == 1) & (df_final.onet_data == 1)].shape[0]))"
   ]
  },
  {
   "cell_type": "markdown",
   "metadata": {},
   "source": [
    "## Number of Overlapping Occupations in Each Category"
   ]
  },
  {
   "cell_type": "code",
   "execution_count": 17,
   "metadata": {},
   "outputs": [
    {
     "name": "stdout",
     "output_type": "stream",
     "text": [
      "Number of Bright and Green Occupations: 63\n",
      "Number of Bright and STEM Occupations: 148\n",
      "Number of Bright and Emerging Occupations: 74\n",
      "Number of Green and STEM Occupations: 81\n",
      "Number of Green and Emerging Occupations: 73\n",
      "Number of STEM and Emerging Occupations: 98\n"
     ]
    }
   ],
   "source": [
    "print('Number of Bright and Green Occupations: {}'.format(\n",
    "        df_final[(df_final.bright == 1) & (df_final.green == 1)].shape[0]))\n",
    "print('Number of Bright and STEM Occupations: {}'.format(\n",
    "        df_final[(df_final.bright == 1) & (df_final.stem == 1)].shape[0]))\n",
    "print('Number of Bright and Emerging Occupations: {}'.format(\n",
    "        df_final[(df_final.bright == 1) & (df_final.emerging == 1)].shape[0]))\n",
    "print('Number of Green and STEM Occupations: {}'.format(\n",
    "        df_final[(df_final.green == 1) & (df_final.stem == 1)].shape[0]))\n",
    "print('Number of Green and Emerging Occupations: {}'.format(\n",
    "        df_final[(df_final.green == 1) & (df_final.emerging == 1)].shape[0]))\n",
    "print('Number of STEM and Emerging Occupations: {}'.format(\n",
    "        df_final[(df_final.stem == 1) & (df_final.emerging == 1)].shape[0]))"
   ]
  }
 ],
 "metadata": {
  "hide_input": false,
  "kernelspec": {
   "display_name": "Python 3",
   "language": "python",
   "name": "python3"
  },
  "language_info": {
   "codemirror_mode": {
    "name": "ipython",
    "version": 3
   },
   "file_extension": ".py",
   "mimetype": "text/x-python",
   "name": "python",
   "nbconvert_exporter": "python",
   "pygments_lexer": "ipython3",
   "version": "3.8.3"
  },
  "toc": {
   "base_numbering": 1,
   "nav_menu": {},
   "number_sections": true,
   "sideBar": true,
   "skip_h1_title": false,
   "title_cell": "Table of Contents",
   "title_sidebar": "Contents",
   "toc_cell": false,
   "toc_position": {},
   "toc_section_display": true,
   "toc_window_display": false
  },
  "varInspector": {
   "cols": {
    "lenName": 16,
    "lenType": 16,
    "lenVar": 40
   },
   "kernels_config": {
    "python": {
     "delete_cmd_postfix": "",
     "delete_cmd_prefix": "del ",
     "library": "var_list.py",
     "varRefreshCmd": "print(var_dic_list())"
    },
    "r": {
     "delete_cmd_postfix": ") ",
     "delete_cmd_prefix": "rm(",
     "library": "var_list.r",
     "varRefreshCmd": "cat(var_dic_list()) "
    }
   },
   "types_to_exclude": [
    "module",
    "function",
    "builtin_function_or_method",
    "instance",
    "_Feature"
   ],
   "window_display": false
  }
 },
 "nbformat": 4,
 "nbformat_minor": 4
}

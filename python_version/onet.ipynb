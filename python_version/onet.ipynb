{
 "cells": [
  {
   "cell_type": "code",
   "execution_count": 1,
   "metadata": {},
   "outputs": [
    {
     "data": {
      "text/html": [
       "<style>.container { width:80% !important; }</style>"
      ],
      "text/plain": [
       "<IPython.core.display.HTML object>"
      ]
     },
     "metadata": {},
     "output_type": "display_data"
    }
   ],
   "source": [
    "from IPython.core.display import display, HTML\n",
    "display(HTML('<style>.container { width:80% !important; }</style>'))"
   ]
  },
  {
   "cell_type": "code",
   "execution_count": 2,
   "metadata": {},
   "outputs": [],
   "source": [
    "import pandas as pd\n",
    "import numpy as np"
   ]
  },
  {
   "cell_type": "code",
   "execution_count": 3,
   "metadata": {},
   "outputs": [],
   "source": [
    "abilities = 'csv_files/db_22_3_excel/Abilities.xlsx'\n",
    "activities = 'csv_files/db_22_3_excel/Work Activities.xlsx'\n",
    "knowledge = 'csv_files/db_22_3_excel/Knowledge.xlsx'\n",
    "skills = 'csv_files/db_22_3_excel/Skills.xlsx'"
   ]
  },
  {
   "cell_type": "code",
   "execution_count": 4,
   "metadata": {},
   "outputs": [],
   "source": [
    "def process_df(filepath, new_column):\n",
    "    from string import punctuation\n",
    "    temp = pd.read_excel(filepath)\n",
    "    t = [''.join([x for x in column if x not in punctuation]) \n",
    "             for column in temp.columns]\n",
    "    temp.columns = [c.lower().replace(' ', '_') for c in t]\n",
    "    elements = sorted(temp['element_name'].unique())\n",
    "    temp['element_code'] = temp['element_name'].replace(to_replace=elements,\n",
    "                                                        value=np.arange(1, \n",
    "                                                            len(elements)+1))\n",
    "    temp = temp.loc[temp['scale_id'] == 'IM', :]\n",
    "    temp.drop(['element_id', 'element_name', 'scale_id', 'scale_name', 'n',\n",
    "               'standard_error', 'lower_ci_bound', 'upper_ci_bound',\n",
    "               'recommend_suppress', 'not_relevant', 'date', 'domain_source'],\n",
    "              axis=1, inplace=True)\n",
    "    temp = temp.pivot(index=['onetsoc_code', 'title'],\n",
    "                      columns=['element_code'],\n",
    "                      values='data_value')\n",
    "    temp.columns = [new_column+'_'+str(i) for i in range(1, temp.shape[1]+1)]\n",
    "    temp.reset_index(level=1, inplace=True)\n",
    "    temp.index.name = 'onetsoccode'\n",
    "    temp.columns.name = None\n",
    "    return temp"
   ]
  },
  {
   "cell_type": "code",
   "execution_count": 5,
   "metadata": {},
   "outputs": [],
   "source": [
    "df_abilities = process_df(abilities, 'ability')\n",
    "df_activities = process_df(activities, 'activity')\n",
    "df_knowledge = process_df(knowledge, 'knowledge')\n",
    "df_skills = process_df(skills, 'skill')"
   ]
  },
  {
   "cell_type": "code",
   "execution_count": 6,
   "metadata": {},
   "outputs": [],
   "source": [
    "df_onet = df_abilities.merge(df_activities, on='title',\n",
    "                             left_index=True, right_index=True)\n",
    "df_onet = df_onet.merge(df_knowledge, on='title',\n",
    "                        left_index=True, right_index=True)\n",
    "df_onet = df_onet.merge(df_skills, on='title',\n",
    "                        left_index=True, right_index=True)"
   ]
  },
  {
   "cell_type": "code",
   "execution_count": 7,
   "metadata": {},
   "outputs": [],
   "source": [
    "df_onet.to_csv('onet_numeric.csv')"
   ]
  }
 ],
 "metadata": {
  "hide_input": false,
  "kernelspec": {
   "display_name": "Python 3",
   "language": "python",
   "name": "python3"
  },
  "language_info": {
   "codemirror_mode": {
    "name": "ipython",
    "version": 3
   },
   "file_extension": ".py",
   "mimetype": "text/x-python",
   "name": "python",
   "nbconvert_exporter": "python",
   "pygments_lexer": "ipython3",
   "version": "3.8.3"
  },
  "toc": {
   "base_numbering": 1,
   "nav_menu": {},
   "number_sections": true,
   "sideBar": true,
   "skip_h1_title": false,
   "title_cell": "Table of Contents",
   "title_sidebar": "Contents",
   "toc_cell": false,
   "toc_position": {},
   "toc_section_display": true,
   "toc_window_display": false
  },
  "varInspector": {
   "cols": {
    "lenName": 16,
    "lenType": 16,
    "lenVar": 40
   },
   "kernels_config": {
    "python": {
     "delete_cmd_postfix": "",
     "delete_cmd_prefix": "del ",
     "library": "var_list.py",
     "varRefreshCmd": "print(var_dic_list())"
    },
    "r": {
     "delete_cmd_postfix": ") ",
     "delete_cmd_prefix": "rm(",
     "library": "var_list.r",
     "varRefreshCmd": "cat(var_dic_list()) "
    }
   },
   "types_to_exclude": [
    "module",
    "function",
    "builtin_function_or_method",
    "instance",
    "_Feature"
   ],
   "window_display": false
  }
 },
 "nbformat": 4,
 "nbformat_minor": 4
}

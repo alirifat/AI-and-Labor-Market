{
 "cells": [
  {
   "cell_type": "code",
   "execution_count": 1,
   "metadata": {},
   "outputs": [],
   "source": [
    "import pandas as pd\n",
    "import numpy as np"
   ]
  },
  {
   "cell_type": "code",
   "execution_count": 2,
   "metadata": {},
   "outputs": [],
   "source": [
    "pd.set_option(\"display.max_rows\", None)"
   ]
  },
  {
   "cell_type": "code",
   "execution_count": 3,
   "metadata": {},
   "outputs": [
    {
     "data": {
      "text/html": [
       "<style>.container { width:90% !important; }</style>"
      ],
      "text/plain": [
       "<IPython.core.display.HTML object>"
      ]
     },
     "metadata": {},
     "output_type": "display_data"
    }
   ],
   "source": [
    "from IPython.core.display import display, HTML\n",
    "display(HTML('<style>.container { width:90% !important; }</style>'))"
   ]
  },
  {
   "cell_type": "code",
   "execution_count": 4,
   "metadata": {},
   "outputs": [],
   "source": [
    "def read_files(version):\n",
    "    temp = pd.read_csv('csv_files/ONET_databases/UPDATES/ONET_' + \\\n",
    "                       str(version) + '_Updates.csv')\n",
    "    title = 'update_'+str(version)\n",
    "    temp.columns = ['onetsoccode', title, 'description']\n",
    "    temp.drop('description', axis=1, inplace=True)\n",
    "    return temp"
   ]
  },
  {
   "cell_type": "markdown",
   "metadata": {},
   "source": [
    "__Year 2000-2006__"
   ]
  },
  {
   "cell_type": "code",
   "execution_count": 5,
   "metadata": {},
   "outputs": [],
   "source": [
    "update_50 = read_files(50)\n",
    "update_60 = read_files(60)\n",
    "update_70 = read_files(70)\n",
    "update_80 = read_files(80)\n",
    "update_90 = read_files(90)"
   ]
  },
  {
   "cell_type": "code",
   "execution_count": 6,
   "metadata": {},
   "outputs": [],
   "source": [
    "def merge_files(f1, f2, indicator:bool):\n",
    "    from copy import copy\n",
    "    temp = copy(f1)\n",
    "    temp = temp.merge(f2, how='outer', on='onetsoccode', indicator=indicator)\n",
    "    return temp"
   ]
  },
  {
   "cell_type": "code",
   "execution_count": 7,
   "metadata": {
    "scrolled": true
   },
   "outputs": [
    {
     "data": {
      "text/html": [
       "<div>\n",
       "<style scoped>\n",
       "    .dataframe tbody tr th:only-of-type {\n",
       "        vertical-align: middle;\n",
       "    }\n",
       "\n",
       "    .dataframe tbody tr th {\n",
       "        vertical-align: top;\n",
       "    }\n",
       "\n",
       "    .dataframe thead th {\n",
       "        text-align: right;\n",
       "    }\n",
       "</style>\n",
       "<table border=\"1\" class=\"dataframe\">\n",
       "  <thead>\n",
       "    <tr style=\"text-align: right;\">\n",
       "      <th></th>\n",
       "      <th>onetsoccode</th>\n",
       "      <th>update_50</th>\n",
       "      <th>update_60</th>\n",
       "      <th>update_70</th>\n",
       "      <th>update_80</th>\n",
       "      <th>update_90</th>\n",
       "    </tr>\n",
       "  </thead>\n",
       "  <tbody>\n",
       "    <tr>\n",
       "      <th>0</th>\n",
       "      <td>11-2022.00</td>\n",
       "      <td>Sales Managers</td>\n",
       "      <td>NaN</td>\n",
       "      <td>NaN</td>\n",
       "      <td>NaN</td>\n",
       "      <td>NaN</td>\n",
       "    </tr>\n",
       "    <tr>\n",
       "      <th>1</th>\n",
       "      <td>11-3011.00</td>\n",
       "      <td>Administrative Services Managers</td>\n",
       "      <td>NaN</td>\n",
       "      <td>NaN</td>\n",
       "      <td>NaN</td>\n",
       "      <td>NaN</td>\n",
       "    </tr>\n",
       "    <tr>\n",
       "      <th>2</th>\n",
       "      <td>11-3051.00</td>\n",
       "      <td>Industrial Production Managers</td>\n",
       "      <td>NaN</td>\n",
       "      <td>NaN</td>\n",
       "      <td>NaN</td>\n",
       "      <td>NaN</td>\n",
       "    </tr>\n",
       "    <tr>\n",
       "      <th>3</th>\n",
       "      <td>11-9111.00</td>\n",
       "      <td>Medical and Health Services Managers</td>\n",
       "      <td>NaN</td>\n",
       "      <td>NaN</td>\n",
       "      <td>NaN</td>\n",
       "      <td>NaN</td>\n",
       "    </tr>\n",
       "    <tr>\n",
       "      <th>4</th>\n",
       "      <td>13-1022.00</td>\n",
       "      <td>Wholesale and Retail Buyers, Except Farm Products</td>\n",
       "      <td>NaN</td>\n",
       "      <td>NaN</td>\n",
       "      <td>NaN</td>\n",
       "      <td>NaN</td>\n",
       "    </tr>\n",
       "  </tbody>\n",
       "</table>\n",
       "</div>"
      ],
      "text/plain": [
       "  onetsoccode                                          update_50 update_60  \\\n",
       "0  11-2022.00                                     Sales Managers       NaN   \n",
       "1  11-3011.00                   Administrative Services Managers       NaN   \n",
       "2  11-3051.00                     Industrial Production Managers       NaN   \n",
       "3  11-9111.00               Medical and Health Services Managers       NaN   \n",
       "4  13-1022.00  Wholesale and Retail Buyers, Except Farm Products       NaN   \n",
       "\n",
       "  update_70 update_80 update_90  \n",
       "0       NaN       NaN       NaN  \n",
       "1       NaN       NaN       NaN  \n",
       "2       NaN       NaN       NaN  \n",
       "3       NaN       NaN       NaN  \n",
       "4       NaN       NaN       NaN  "
      ]
     },
     "execution_count": 7,
     "metadata": {},
     "output_type": "execute_result"
    }
   ],
   "source": [
    "df = merge_files(update_50, update_60, indicator=False)\n",
    "df = merge_files(df, update_70, indicator=False)\n",
    "df = merge_files(df, update_80, indicator=False)\n",
    "df = merge_files(df, update_90, indicator=False)\n",
    "df.head()"
   ]
  },
  {
   "cell_type": "code",
   "execution_count": 8,
   "metadata": {},
   "outputs": [
    {
     "data": {
      "text/html": [
       "<div>\n",
       "<style scoped>\n",
       "    .dataframe tbody tr th:only-of-type {\n",
       "        vertical-align: middle;\n",
       "    }\n",
       "\n",
       "    .dataframe tbody tr th {\n",
       "        vertical-align: top;\n",
       "    }\n",
       "\n",
       "    .dataframe thead th {\n",
       "        text-align: right;\n",
       "    }\n",
       "</style>\n",
       "<table border=\"1\" class=\"dataframe\">\n",
       "  <thead>\n",
       "    <tr style=\"text-align: right;\">\n",
       "      <th></th>\n",
       "      <th>onetsoccode</th>\n",
       "      <th>update_50</th>\n",
       "      <th>update_60</th>\n",
       "      <th>update_70</th>\n",
       "      <th>update_80</th>\n",
       "      <th>update_90</th>\n",
       "      <th>title</th>\n",
       "    </tr>\n",
       "  </thead>\n",
       "  <tbody>\n",
       "    <tr>\n",
       "      <th>0</th>\n",
       "      <td>11-2022.00</td>\n",
       "      <td>Sales Managers</td>\n",
       "      <td></td>\n",
       "      <td></td>\n",
       "      <td></td>\n",
       "      <td></td>\n",
       "      <td>Sales Managers</td>\n",
       "    </tr>\n",
       "    <tr>\n",
       "      <th>1</th>\n",
       "      <td>11-3011.00</td>\n",
       "      <td>Administrative Services Managers</td>\n",
       "      <td></td>\n",
       "      <td></td>\n",
       "      <td></td>\n",
       "      <td></td>\n",
       "      <td>Administrative Services Managers</td>\n",
       "    </tr>\n",
       "    <tr>\n",
       "      <th>2</th>\n",
       "      <td>11-3051.00</td>\n",
       "      <td>Industrial Production Managers</td>\n",
       "      <td></td>\n",
       "      <td></td>\n",
       "      <td></td>\n",
       "      <td></td>\n",
       "      <td>Industrial Production Managers</td>\n",
       "    </tr>\n",
       "    <tr>\n",
       "      <th>3</th>\n",
       "      <td>11-9111.00</td>\n",
       "      <td>Medical and Health Services Managers</td>\n",
       "      <td></td>\n",
       "      <td></td>\n",
       "      <td></td>\n",
       "      <td></td>\n",
       "      <td>Medical and Health Services Managers</td>\n",
       "    </tr>\n",
       "    <tr>\n",
       "      <th>4</th>\n",
       "      <td>13-1022.00</td>\n",
       "      <td>Wholesale and Retail Buyers, Except Farm Products</td>\n",
       "      <td></td>\n",
       "      <td></td>\n",
       "      <td></td>\n",
       "      <td></td>\n",
       "      <td>Wholesale and Retail Buyers, Except Farm Products</td>\n",
       "    </tr>\n",
       "  </tbody>\n",
       "</table>\n",
       "</div>"
      ],
      "text/plain": [
       "  onetsoccode                                          update_50 update_60  \\\n",
       "0  11-2022.00                                     Sales Managers             \n",
       "1  11-3011.00                   Administrative Services Managers             \n",
       "2  11-3051.00                     Industrial Production Managers             \n",
       "3  11-9111.00               Medical and Health Services Managers             \n",
       "4  13-1022.00  Wholesale and Retail Buyers, Except Farm Products             \n",
       "\n",
       "  update_70 update_80 update_90  \\\n",
       "0                                 \n",
       "1                                 \n",
       "2                                 \n",
       "3                                 \n",
       "4                                 \n",
       "\n",
       "                                               title  \n",
       "0                                     Sales Managers  \n",
       "1                   Administrative Services Managers  \n",
       "2                     Industrial Production Managers  \n",
       "3               Medical and Health Services Managers  \n",
       "4  Wholesale and Retail Buyers, Except Farm Products  "
      ]
     },
     "execution_count": 8,
     "metadata": {},
     "output_type": "execute_result"
    }
   ],
   "source": [
    "df.fillna('', inplace=True)\n",
    "df['title'] = df.iloc[:, 1:].sum(axis=1)\n",
    "df.head()"
   ]
  },
  {
   "cell_type": "code",
   "execution_count": 9,
   "metadata": {},
   "outputs": [
    {
     "data": {
      "text/html": [
       "<div>\n",
       "<style scoped>\n",
       "    .dataframe tbody tr th:only-of-type {\n",
       "        vertical-align: middle;\n",
       "    }\n",
       "\n",
       "    .dataframe tbody tr th {\n",
       "        vertical-align: top;\n",
       "    }\n",
       "\n",
       "    .dataframe thead th {\n",
       "        text-align: right;\n",
       "    }\n",
       "</style>\n",
       "<table border=\"1\" class=\"dataframe\">\n",
       "  <thead>\n",
       "    <tr style=\"text-align: right;\">\n",
       "      <th></th>\n",
       "      <th>onetsoccode</th>\n",
       "      <th>title</th>\n",
       "      <th>version_2000</th>\n",
       "    </tr>\n",
       "  </thead>\n",
       "  <tbody>\n",
       "    <tr>\n",
       "      <th>0</th>\n",
       "      <td>11-2022.00</td>\n",
       "      <td>Sales Managers</td>\n",
       "      <td>5.0</td>\n",
       "    </tr>\n",
       "    <tr>\n",
       "      <th>1</th>\n",
       "      <td>11-3011.00</td>\n",
       "      <td>Administrative Services Managers</td>\n",
       "      <td>5.0</td>\n",
       "    </tr>\n",
       "    <tr>\n",
       "      <th>2</th>\n",
       "      <td>11-3051.00</td>\n",
       "      <td>Industrial Production Managers</td>\n",
       "      <td>5.0</td>\n",
       "    </tr>\n",
       "    <tr>\n",
       "      <th>3</th>\n",
       "      <td>11-9111.00</td>\n",
       "      <td>Medical and Health Services Managers</td>\n",
       "      <td>5.0</td>\n",
       "    </tr>\n",
       "    <tr>\n",
       "      <th>4</th>\n",
       "      <td>13-1022.00</td>\n",
       "      <td>Wholesale and Retail Buyers, Except Farm Products</td>\n",
       "      <td>5.0</td>\n",
       "    </tr>\n",
       "  </tbody>\n",
       "</table>\n",
       "</div>"
      ],
      "text/plain": [
       "  onetsoccode                                              title version_2000\n",
       "0  11-2022.00                                     Sales Managers          5.0\n",
       "1  11-3011.00                   Administrative Services Managers          5.0\n",
       "2  11-3051.00                     Industrial Production Managers          5.0\n",
       "3  11-9111.00               Medical and Health Services Managers          5.0\n",
       "4  13-1022.00  Wholesale and Retail Buyers, Except Farm Products          5.0"
      ]
     },
     "execution_count": 9,
     "metadata": {},
     "output_type": "execute_result"
    }
   ],
   "source": [
    "df['update_50'] = np.where(df['update_50'] != '', '5.0', df['update_50'])\n",
    "df['update_60'] = np.where(df['update_60'] != '', '6.0', df['update_60'])\n",
    "df['update_70'] = np.where(df['update_70'] != '', '7.0', df['update_70'])\n",
    "df['update_80'] = np.where(df['update_80'] != '', '8.0', df['update_80'])\n",
    "df['update_90'] = np.where(df['update_90'] != '', '9.0', df['update_90'])\n",
    "df['version_2000'] = df.iloc[:, 1:-1].sum(axis=1).map(str)\n",
    "df.drop(['update_50', 'update_60', 'update_70', 'update_80', 'update_90'],\n",
    "        axis=1, inplace=True)\n",
    "df.head()"
   ]
  },
  {
   "cell_type": "markdown",
   "metadata": {},
   "source": [
    "__Year 2006-2009__"
   ]
  },
  {
   "cell_type": "code",
   "execution_count": 10,
   "metadata": {},
   "outputs": [],
   "source": [
    "update_100 = read_files(100)\n",
    "update_110 = read_files(110)\n",
    "update_120 = read_files(120)\n",
    "update_130 = read_files(130)"
   ]
  },
  {
   "cell_type": "code",
   "execution_count": 11,
   "metadata": {
    "scrolled": false
   },
   "outputs": [],
   "source": [
    "df1 = merge_files(update_100, update_110, indicator=False)\n",
    "df1 = merge_files(df1, update_120, indicator=False)\n",
    "df1 = df1.merge(update_130, how='outer', on='onetsoccode', indicator=True)\n",
    "df1.iloc[:, 1:-1] = df1.iloc[:, 1:-1].fillna('')"
   ]
  },
  {
   "cell_type": "code",
   "execution_count": 12,
   "metadata": {},
   "outputs": [],
   "source": [
    "mask = df1['_merge'] != 'both'\n",
    "df1['title'] = df1[mask].loc[:, list(df1.columns)[1:-1]].sum(axis=1)\n",
    "df1['title'] = np.where(df1['title'].isnull(), df1['update_100'], df1['title'])"
   ]
  },
  {
   "cell_type": "code",
   "execution_count": 13,
   "metadata": {},
   "outputs": [],
   "source": [
    "df1['update_100'] = np.where(df1['update_100'] != '', '10.0', df1['update_100'])\n",
    "df1['update_110'] = np.where(df1['update_110'] != '', '11.0', df1['update_110'])\n",
    "df1['update_120'] = np.where(df1['update_120'] != '', '12.0', df1['update_120'])\n",
    "df1['update_130'] = np.where(df1['update_130'] != '', '13.0', df1['update_130'])"
   ]
  },
  {
   "cell_type": "code",
   "execution_count": 14,
   "metadata": {},
   "outputs": [],
   "source": [
    "df1['version_2006'] = df1[mask].loc[:, list(df1.columns)[1:-2]].sum(axis=1).map(str)\n",
    "df1['version_2006'] = np.where(df1['version_2006'].isnull(), df1['update_100'], df1['version_2006'])\n",
    "df1['version_2006_1'] = ''\n",
    "df1['version_2006_1'] = np.where(~mask, df1['update_130'], df1['version_2006_1'] )"
   ]
  },
  {
   "cell_type": "code",
   "execution_count": 15,
   "metadata": {},
   "outputs": [
    {
     "data": {
      "text/html": [
       "<div>\n",
       "<style scoped>\n",
       "    .dataframe tbody tr th:only-of-type {\n",
       "        vertical-align: middle;\n",
       "    }\n",
       "\n",
       "    .dataframe tbody tr th {\n",
       "        vertical-align: top;\n",
       "    }\n",
       "\n",
       "    .dataframe thead th {\n",
       "        text-align: right;\n",
       "    }\n",
       "</style>\n",
       "<table border=\"1\" class=\"dataframe\">\n",
       "  <thead>\n",
       "    <tr style=\"text-align: right;\">\n",
       "      <th></th>\n",
       "      <th>onetsoccode</th>\n",
       "      <th>title</th>\n",
       "      <th>version_2006</th>\n",
       "      <th>version_2006_1</th>\n",
       "    </tr>\n",
       "  </thead>\n",
       "  <tbody>\n",
       "    <tr>\n",
       "      <th>0</th>\n",
       "      <td>11-1011.00</td>\n",
       "      <td>Chief Executives</td>\n",
       "      <td>10.0</td>\n",
       "      <td></td>\n",
       "    </tr>\n",
       "    <tr>\n",
       "      <th>1</th>\n",
       "      <td>11-3031.01</td>\n",
       "      <td>Treasurers and Controllers</td>\n",
       "      <td>10.0</td>\n",
       "      <td></td>\n",
       "    </tr>\n",
       "    <tr>\n",
       "      <th>2</th>\n",
       "      <td>11-3031.02</td>\n",
       "      <td>Financial Managers, Branch or Department</td>\n",
       "      <td>10.0</td>\n",
       "      <td></td>\n",
       "    </tr>\n",
       "    <tr>\n",
       "      <th>3</th>\n",
       "      <td>11-9011.02</td>\n",
       "      <td>Crop and Livestock Managers</td>\n",
       "      <td>10.0</td>\n",
       "      <td></td>\n",
       "    </tr>\n",
       "    <tr>\n",
       "      <th>4</th>\n",
       "      <td>13-1041.06</td>\n",
       "      <td>Coroners</td>\n",
       "      <td>10.0</td>\n",
       "      <td></td>\n",
       "    </tr>\n",
       "  </tbody>\n",
       "</table>\n",
       "</div>"
      ],
      "text/plain": [
       "  onetsoccode                                     title version_2006  \\\n",
       "0  11-1011.00                          Chief Executives         10.0   \n",
       "1  11-3031.01                Treasurers and Controllers         10.0   \n",
       "2  11-3031.02  Financial Managers, Branch or Department         10.0   \n",
       "3  11-9011.02               Crop and Livestock Managers         10.0   \n",
       "4  13-1041.06                                  Coroners         10.0   \n",
       "\n",
       "  version_2006_1  \n",
       "0                 \n",
       "1                 \n",
       "2                 \n",
       "3                 \n",
       "4                 "
      ]
     },
     "execution_count": 15,
     "metadata": {},
     "output_type": "execute_result"
    }
   ],
   "source": [
    "df1.drop(['update_100', 'update_110', 'update_120', 'update_130', '_merge'],\n",
    "         axis=1, inplace=True)\n",
    "df1.head()"
   ]
  },
  {
   "cell_type": "markdown",
   "metadata": {},
   "source": [
    "__Year 2009-2010__"
   ]
  },
  {
   "cell_type": "code",
   "execution_count": 16,
   "metadata": {},
   "outputs": [],
   "source": [
    "update_140 = read_files(140)\n",
    "update_150 = read_files(150)"
   ]
  },
  {
   "cell_type": "code",
   "execution_count": 17,
   "metadata": {},
   "outputs": [],
   "source": [
    "df2 = merge_files(update_140, update_150, indicator=False)"
   ]
  },
  {
   "cell_type": "code",
   "execution_count": 18,
   "metadata": {
    "scrolled": true
   },
   "outputs": [
    {
     "data": {
      "text/html": [
       "<div>\n",
       "<style scoped>\n",
       "    .dataframe tbody tr th:only-of-type {\n",
       "        vertical-align: middle;\n",
       "    }\n",
       "\n",
       "    .dataframe tbody tr th {\n",
       "        vertical-align: top;\n",
       "    }\n",
       "\n",
       "    .dataframe thead th {\n",
       "        text-align: right;\n",
       "    }\n",
       "</style>\n",
       "<table border=\"1\" class=\"dataframe\">\n",
       "  <thead>\n",
       "    <tr style=\"text-align: right;\">\n",
       "      <th></th>\n",
       "      <th>onetsoccode</th>\n",
       "      <th>title</th>\n",
       "      <th>version_2009</th>\n",
       "    </tr>\n",
       "  </thead>\n",
       "  <tbody>\n",
       "    <tr>\n",
       "      <th>0</th>\n",
       "      <td>11-2031.00</td>\n",
       "      <td>Public Relations Managers</td>\n",
       "      <td>14.0</td>\n",
       "    </tr>\n",
       "    <tr>\n",
       "      <th>1</th>\n",
       "      <td>11-3011.00</td>\n",
       "      <td>Administrative Services Managers</td>\n",
       "      <td>14.0</td>\n",
       "    </tr>\n",
       "    <tr>\n",
       "      <th>2</th>\n",
       "      <td>11-3061.00</td>\n",
       "      <td>Purchasing Managers</td>\n",
       "      <td>14.0</td>\n",
       "    </tr>\n",
       "    <tr>\n",
       "      <th>3</th>\n",
       "      <td>11-3071.01</td>\n",
       "      <td>Transportation Managers</td>\n",
       "      <td>14.0</td>\n",
       "    </tr>\n",
       "    <tr>\n",
       "      <th>4</th>\n",
       "      <td>11-9111.01</td>\n",
       "      <td>Clinical Nurse Specialists</td>\n",
       "      <td>14.0</td>\n",
       "    </tr>\n",
       "  </tbody>\n",
       "</table>\n",
       "</div>"
      ],
      "text/plain": [
       "  onetsoccode                             title version_2009\n",
       "0  11-2031.00         Public Relations Managers         14.0\n",
       "1  11-3011.00  Administrative Services Managers         14.0\n",
       "2  11-3061.00               Purchasing Managers         14.0\n",
       "3  11-3071.01           Transportation Managers         14.0\n",
       "4  11-9111.01        Clinical Nurse Specialists         14.0"
      ]
     },
     "execution_count": 18,
     "metadata": {},
     "output_type": "execute_result"
    }
   ],
   "source": [
    "df2.fillna('', inplace=True)\n",
    "df2['title'] = df2.iloc[:, 1:].sum(axis=1)\n",
    "df2['update_140'] = np.where(df2['update_140'] != '', '14.0', df2['update_140'])\n",
    "df2['update_150'] = np.where(df2['update_150'] != '', '15.0', df2['update_150'])\n",
    "df2['version_2009'] = df2.iloc[:, 1:-1].sum(axis=1).map(str)\n",
    "df2.drop(['update_140', 'update_150'], axis=1, inplace=True)\n",
    "df2.head()"
   ]
  },
  {
   "cell_type": "markdown",
   "metadata": {},
   "source": [
    "__Year 2010 +__"
   ]
  },
  {
   "cell_type": "code",
   "execution_count": 19,
   "metadata": {},
   "outputs": [],
   "source": [
    "update_160 = read_files(160)\n",
    "update_170 = read_files(170)\n",
    "update_180 = read_files(180)\n",
    "update_190 = read_files(190)\n",
    "update_200 = read_files(200)\n",
    "update_210 = read_files(210)\n",
    "update_220 = read_files(220)\n",
    "update_230 = read_files(230)"
   ]
  },
  {
   "cell_type": "code",
   "execution_count": 20,
   "metadata": {},
   "outputs": [],
   "source": [
    "df3 = merge_files(update_160, update_170, indicator='_17')\n",
    "df3 = merge_files(df3, update_180, indicator='_18')\n",
    "df3 = merge_files(df3, update_190, indicator='_19')\n",
    "df3 = merge_files(df3, update_200, indicator='_20')\n",
    "df3 = merge_files(df3, update_210, indicator='_21')\n",
    "df3 = merge_files(df3, update_220, indicator='_22')\n",
    "df3 = merge_files(df3, update_230, indicator='_23')"
   ]
  },
  {
   "cell_type": "code",
   "execution_count": 21,
   "metadata": {},
   "outputs": [],
   "source": [
    "df3['title'] = df3['update_160']\n",
    "updates = ['update_160', 'update_170', 'update_180', 'update_190',\n",
    "           'update_200', 'update_210',  'update_220', 'update_230']\n",
    "versions = ['16.0', '17.0', '18.0', '19.0', '20.0', '21.0', '22.0', '23.0']\n",
    "for x in updates[1:]:\n",
    "    df3.title = np.where(df3.title.isnull(), df3[x], df3.title)"
   ]
  },
  {
   "cell_type": "code",
   "execution_count": 22,
   "metadata": {},
   "outputs": [],
   "source": [
    "for version, update in zip(versions, updates):\n",
    "    df3[update] = np.where(df3[update].notnull(), version, df3[update])"
   ]
  },
  {
   "cell_type": "code",
   "execution_count": 23,
   "metadata": {
    "scrolled": true
   },
   "outputs": [],
   "source": [
    "df3['version_2010'] = df3['update_160']\n",
    "for x in updates[1:]:\n",
    "    df3['version_2010'] = np.where(df3['version_2010'].isnull(), df3[x], df3['version_2010'])"
   ]
  },
  {
   "cell_type": "code",
   "execution_count": 24,
   "metadata": {},
   "outputs": [],
   "source": [
    "mask = df3['_19'] == 'both'\n",
    "df3['version_2010_1'] = df3[mask].loc[:, 'update_190']\n",
    "for merge, update in zip(['_20', '_21', '_22', '_23'], updates[4:]):\n",
    "    df3['version_2010_1'] = np.where((df3['version_2010_1'].isnull()) & (df3[merge] == 'both'),\n",
    "                                      df3[update], df3['version_2010_1'])"
   ]
  },
  {
   "cell_type": "code",
   "execution_count": 25,
   "metadata": {
    "scrolled": true
   },
   "outputs": [
    {
     "data": {
      "text/html": [
       "<div>\n",
       "<style scoped>\n",
       "    .dataframe tbody tr th:only-of-type {\n",
       "        vertical-align: middle;\n",
       "    }\n",
       "\n",
       "    .dataframe tbody tr th {\n",
       "        vertical-align: top;\n",
       "    }\n",
       "\n",
       "    .dataframe thead th {\n",
       "        text-align: right;\n",
       "    }\n",
       "</style>\n",
       "<table border=\"1\" class=\"dataframe\">\n",
       "  <thead>\n",
       "    <tr style=\"text-align: right;\">\n",
       "      <th></th>\n",
       "      <th>onetsoccode</th>\n",
       "      <th>title</th>\n",
       "      <th>version_2010</th>\n",
       "      <th>version_2010_1</th>\n",
       "    </tr>\n",
       "  </thead>\n",
       "  <tbody>\n",
       "    <tr>\n",
       "      <th>0</th>\n",
       "      <td>11-3051.02</td>\n",
       "      <td>Geothermal Production Managers</td>\n",
       "      <td>16.0</td>\n",
       "      <td></td>\n",
       "    </tr>\n",
       "    <tr>\n",
       "      <th>1</th>\n",
       "      <td>11-3071.03</td>\n",
       "      <td>Logistics Managers</td>\n",
       "      <td>16.0</td>\n",
       "      <td>22.0</td>\n",
       "    </tr>\n",
       "    <tr>\n",
       "      <th>2</th>\n",
       "      <td>11-9121.01</td>\n",
       "      <td>Clinical Research Coordinators</td>\n",
       "      <td>16.0</td>\n",
       "      <td></td>\n",
       "    </tr>\n",
       "    <tr>\n",
       "      <th>3</th>\n",
       "      <td>13-1023.00</td>\n",
       "      <td>Purchasing Agents, Except Wholesale, Retail, a...</td>\n",
       "      <td>16.0</td>\n",
       "      <td></td>\n",
       "    </tr>\n",
       "    <tr>\n",
       "      <th>4</th>\n",
       "      <td>13-1081.01</td>\n",
       "      <td>Logistics Engineers</td>\n",
       "      <td>16.0</td>\n",
       "      <td></td>\n",
       "    </tr>\n",
       "  </tbody>\n",
       "</table>\n",
       "</div>"
      ],
      "text/plain": [
       "  onetsoccode                                              title version_2010  \\\n",
       "0  11-3051.02                     Geothermal Production Managers         16.0   \n",
       "1  11-3071.03                                 Logistics Managers         16.0   \n",
       "2  11-9121.01                     Clinical Research Coordinators         16.0   \n",
       "3  13-1023.00  Purchasing Agents, Except Wholesale, Retail, a...         16.0   \n",
       "4  13-1081.01                                Logistics Engineers         16.0   \n",
       "\n",
       "  version_2010_1  \n",
       "0                 \n",
       "1           22.0  \n",
       "2                 \n",
       "3                 \n",
       "4                 "
      ]
     },
     "execution_count": 25,
     "metadata": {},
     "output_type": "execute_result"
    }
   ],
   "source": [
    "to_drop = updates + ['_17', '_18', '_19', '_20', '_21', '_22', '_23']\n",
    "df3.drop(to_drop, axis=1, inplace=True)\n",
    "df3.fillna('', inplace=True)\n",
    "df3.head()"
   ]
  },
  {
   "cell_type": "markdown",
   "metadata": {},
   "source": [
    "__Merge all data into one__"
   ]
  },
  {
   "cell_type": "code",
   "execution_count": 26,
   "metadata": {},
   "outputs": [],
   "source": [
    "def final_merge(df1, df2):\n",
    "    temp = df1.merge(df2, how='outer', on='onetsoccode')\n",
    "    temp['title_x'] = np.where(temp['title_x'].isnull(),\n",
    "                               temp['title_y'], temp['title_x'])\n",
    "    temp.drop(['title_y'], axis=1, inplace=True)\n",
    "    temp.rename(columns={'title_x' : 'title'}, inplace=True)\n",
    "    return temp  "
   ]
  },
  {
   "cell_type": "code",
   "execution_count": 27,
   "metadata": {},
   "outputs": [],
   "source": [
    "df_final = final_merge(df, df1)\n",
    "df_final = final_merge(df_final, df2)\n",
    "df_final = final_merge(df_final, df3)\n",
    "df_final.fillna('', inplace=True)"
   ]
  },
  {
   "cell_type": "code",
   "execution_count": 28,
   "metadata": {
    "scrolled": false
   },
   "outputs": [
    {
     "data": {
      "text/html": [
       "<div>\n",
       "<style scoped>\n",
       "    .dataframe tbody tr th:only-of-type {\n",
       "        vertical-align: middle;\n",
       "    }\n",
       "\n",
       "    .dataframe tbody tr th {\n",
       "        vertical-align: top;\n",
       "    }\n",
       "\n",
       "    .dataframe thead th {\n",
       "        text-align: right;\n",
       "    }\n",
       "</style>\n",
       "<table border=\"1\" class=\"dataframe\">\n",
       "  <thead>\n",
       "    <tr style=\"text-align: right;\">\n",
       "      <th></th>\n",
       "      <th>onetsoccode</th>\n",
       "      <th>title</th>\n",
       "      <th>version_2000</th>\n",
       "      <th>version_2006</th>\n",
       "      <th>version_2006_1</th>\n",
       "      <th>version_2009</th>\n",
       "      <th>version_2010</th>\n",
       "      <th>version_2010_1</th>\n",
       "    </tr>\n",
       "  </thead>\n",
       "  <tbody>\n",
       "    <tr>\n",
       "      <th>0</th>\n",
       "      <td>11-2022.00</td>\n",
       "      <td>Sales Managers</td>\n",
       "      <td>5.0</td>\n",
       "      <td>13.0</td>\n",
       "      <td></td>\n",
       "      <td></td>\n",
       "      <td>21.0</td>\n",
       "      <td></td>\n",
       "    </tr>\n",
       "    <tr>\n",
       "      <th>1</th>\n",
       "      <td>11-3011.00</td>\n",
       "      <td>Administrative Services Managers</td>\n",
       "      <td>5.0</td>\n",
       "      <td></td>\n",
       "      <td></td>\n",
       "      <td>14.0</td>\n",
       "      <td>22.0</td>\n",
       "      <td></td>\n",
       "    </tr>\n",
       "    <tr>\n",
       "      <th>2</th>\n",
       "      <td>11-3051.00</td>\n",
       "      <td>Industrial Production Managers</td>\n",
       "      <td>5.0</td>\n",
       "      <td>13.0</td>\n",
       "      <td></td>\n",
       "      <td></td>\n",
       "      <td>18.0</td>\n",
       "      <td></td>\n",
       "    </tr>\n",
       "    <tr>\n",
       "      <th>3</th>\n",
       "      <td>11-9111.00</td>\n",
       "      <td>Medical and Health Services Managers</td>\n",
       "      <td>5.0</td>\n",
       "      <td>13.0</td>\n",
       "      <td></td>\n",
       "      <td></td>\n",
       "      <td>21.0</td>\n",
       "      <td></td>\n",
       "    </tr>\n",
       "    <tr>\n",
       "      <th>4</th>\n",
       "      <td>13-1022.00</td>\n",
       "      <td>Wholesale and Retail Buyers, Except Farm Products</td>\n",
       "      <td>5.0</td>\n",
       "      <td></td>\n",
       "      <td></td>\n",
       "      <td>14.0</td>\n",
       "      <td>20.0</td>\n",
       "      <td></td>\n",
       "    </tr>\n",
       "  </tbody>\n",
       "</table>\n",
       "</div>"
      ],
      "text/plain": [
       "  onetsoccode                                              title version_2000  \\\n",
       "0  11-2022.00                                     Sales Managers          5.0   \n",
       "1  11-3011.00                   Administrative Services Managers          5.0   \n",
       "2  11-3051.00                     Industrial Production Managers          5.0   \n",
       "3  11-9111.00               Medical and Health Services Managers          5.0   \n",
       "4  13-1022.00  Wholesale and Retail Buyers, Except Farm Products          5.0   \n",
       "\n",
       "  version_2006 version_2006_1 version_2009 version_2010 version_2010_1  \n",
       "0         13.0                                     21.0                 \n",
       "1                                     14.0         22.0                 \n",
       "2         13.0                                     18.0                 \n",
       "3         13.0                                     21.0                 \n",
       "4                                     14.0         20.0                 "
      ]
     },
     "execution_count": 28,
     "metadata": {},
     "output_type": "execute_result"
    }
   ],
   "source": [
    "df_final.head()"
   ]
  },
  {
   "cell_type": "code",
   "execution_count": 29,
   "metadata": {},
   "outputs": [],
   "source": [
    "df_final.to_csv('onet_update_tracking.csv')"
   ]
  }
 ],
 "metadata": {
  "hide_input": false,
  "kernelspec": {
   "display_name": "Python 3",
   "language": "python",
   "name": "python3"
  },
  "language_info": {
   "codemirror_mode": {
    "name": "ipython",
    "version": 3
   },
   "file_extension": ".py",
   "mimetype": "text/x-python",
   "name": "python",
   "nbconvert_exporter": "python",
   "pygments_lexer": "ipython3",
   "version": "3.8.3"
  },
  "toc": {
   "base_numbering": 1,
   "nav_menu": {},
   "number_sections": true,
   "sideBar": true,
   "skip_h1_title": false,
   "title_cell": "Table of Contents",
   "title_sidebar": "Contents",
   "toc_cell": false,
   "toc_position": {},
   "toc_section_display": true,
   "toc_window_display": false
  },
  "varInspector": {
   "cols": {
    "lenName": 16,
    "lenType": 16,
    "lenVar": 40
   },
   "kernels_config": {
    "python": {
     "delete_cmd_postfix": "",
     "delete_cmd_prefix": "del ",
     "library": "var_list.py",
     "varRefreshCmd": "print(var_dic_list())"
    },
    "r": {
     "delete_cmd_postfix": ") ",
     "delete_cmd_prefix": "rm(",
     "library": "var_list.r",
     "varRefreshCmd": "cat(var_dic_list()) "
    }
   },
   "types_to_exclude": [
    "module",
    "function",
    "builtin_function_or_method",
    "instance",
    "_Feature"
   ],
   "window_display": false
  }
 },
 "nbformat": 4,
 "nbformat_minor": 4
}

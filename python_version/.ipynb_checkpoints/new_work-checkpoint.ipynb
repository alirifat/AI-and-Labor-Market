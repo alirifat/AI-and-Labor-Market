{
 "cells": [
  {
   "cell_type": "code",
   "execution_count": 1,
   "metadata": {},
   "outputs": [],
   "source": [
    "import pandas as pd\n",
    "import numpy as np"
   ]
  },
  {
   "cell_type": "markdown",
   "metadata": {},
   "source": [
    "## Import Taxonomies"
   ]
  },
  {
   "cell_type": "code",
   "execution_count": 2,
   "metadata": {},
   "outputs": [],
   "source": [
    "def read_taxonomies(year):\n",
    "    df = pd.read_csv('csv_files/Taxonomies/'+str(year)+'_Occupations.csv')\n",
    "    df.columns = ['onetsoccode', 'onet_title', 'description']\n",
    "    df.drop('description', axis=1, inplace=True)\n",
    "    return df"
   ]
  },
  {
   "cell_type": "code",
   "execution_count": 3,
   "metadata": {},
   "outputs": [],
   "source": [
    "tax_2006 = read_taxonomies(2006)\n",
    "tax_2009 = read_taxonomies(2009)\n",
    "tax_2010 = read_taxonomies(2010)"
   ]
  },
  {
   "cell_type": "code",
   "execution_count": 4,
   "metadata": {},
   "outputs": [],
   "source": [
    "def read_crosswalks(year1, year2):\n",
    "    df = pd.read_csv('csv_files/Crosswalks/'+str(year1)+'_to_'+str(year2)+'_Crosswalk.csv')\n",
    "    df.columns = ['temp_code', 'temp_title', 'onetsoccode', 'onet_title']\n",
    "    df.drop(['temp_code', 'temp_title'], axis=1, inplace=True)\n",
    "    return df"
   ]
  },
  {
   "cell_type": "code",
   "execution_count": 5,
   "metadata": {},
   "outputs": [],
   "source": [
    "cross_2006 = read_crosswalks(2000, 2006)\n",
    "cross_2009 = read_crosswalks(2006, 2009)\n",
    "cross_2010 = read_crosswalks(2009, 2010)"
   ]
  },
  {
   "cell_type": "markdown",
   "metadata": {},
   "source": [
    "## Identify New Works"
   ]
  },
  {
   "cell_type": "code",
   "execution_count": 6,
   "metadata": {},
   "outputs": [],
   "source": [
    "def get_new_work(df1, df2):\n",
    "    temp = df1.merge(df2, how='left', on='onetsoccode')\n",
    "    temp.fillna(' ', inplace=True)\n",
    "    temp = temp[temp.onet_title_y == ' ']\n",
    "    temp.drop('onet_title_y', axis=1, inplace=True)\n",
    "    temp.rename(columns={'onet_title_x':'onet_title'}, inplace=True)\n",
    "    return temp"
   ]
  },
  {
   "cell_type": "code",
   "execution_count": 7,
   "metadata": {
    "scrolled": false
   },
   "outputs": [
    {
     "data": {
      "text/html": [
       "<div>\n",
       "<style scoped>\n",
       "    .dataframe tbody tr th:only-of-type {\n",
       "        vertical-align: middle;\n",
       "    }\n",
       "\n",
       "    .dataframe tbody tr th {\n",
       "        vertical-align: top;\n",
       "    }\n",
       "\n",
       "    .dataframe thead th {\n",
       "        text-align: right;\n",
       "    }\n",
       "</style>\n",
       "<table border=\"1\" class=\"dataframe\">\n",
       "  <thead>\n",
       "    <tr style=\"text-align: right;\">\n",
       "      <th></th>\n",
       "      <th>onetsoccode</th>\n",
       "      <th>onet_title</th>\n",
       "    </tr>\n",
       "  </thead>\n",
       "  <tbody>\n",
       "    <tr>\n",
       "      <th>97</th>\n",
       "      <td>15-1099.01</td>\n",
       "      <td>Software Quality Assurance Engineers and Testers</td>\n",
       "    </tr>\n",
       "    <tr>\n",
       "      <th>98</th>\n",
       "      <td>15-1099.02</td>\n",
       "      <td>Computer Systems Engineers/Architects</td>\n",
       "    </tr>\n",
       "    <tr>\n",
       "      <th>99</th>\n",
       "      <td>15-1099.03</td>\n",
       "      <td>Network Designers</td>\n",
       "    </tr>\n",
       "    <tr>\n",
       "      <th>100</th>\n",
       "      <td>15-1099.04</td>\n",
       "      <td>Web Developers</td>\n",
       "    </tr>\n",
       "    <tr>\n",
       "      <th>101</th>\n",
       "      <td>15-1099.05</td>\n",
       "      <td>Web Administrators</td>\n",
       "    </tr>\n",
       "    <tr>\n",
       "      <th>479</th>\n",
       "      <td>33-9099.01</td>\n",
       "      <td>Transportation Security Screeners</td>\n",
       "    </tr>\n",
       "  </tbody>\n",
       "</table>\n",
       "</div>"
      ],
      "text/plain": [
       "    onetsoccode                                        onet_title\n",
       "97   15-1099.01  Software Quality Assurance Engineers and Testers\n",
       "98   15-1099.02             Computer Systems Engineers/Architects\n",
       "99   15-1099.03                                 Network Designers\n",
       "100  15-1099.04                                    Web Developers\n",
       "101  15-1099.05                                Web Administrators\n",
       "479  33-9099.01                 Transportation Security Screeners"
      ]
     },
     "execution_count": 7,
     "metadata": {},
     "output_type": "execute_result"
    }
   ],
   "source": [
    "get_new_work(tax_2006, cross_2006)"
   ]
  },
  {
   "cell_type": "code",
   "execution_count": 8,
   "metadata": {},
   "outputs": [],
   "source": [
    "new_work1 = get_new_work(tax_2006, cross_2006)\n",
    "new_work2 = get_new_work(tax_2009, cross_2009)\n",
    "new_work3 = get_new_work(tax_2010, cross_2010)"
   ]
  },
  {
   "cell_type": "code",
   "execution_count": 9,
   "metadata": {
    "scrolled": true
   },
   "outputs": [
    {
     "data": {
      "text/html": [
       "<div>\n",
       "<style scoped>\n",
       "    .dataframe tbody tr th:only-of-type {\n",
       "        vertical-align: middle;\n",
       "    }\n",
       "\n",
       "    .dataframe tbody tr th {\n",
       "        vertical-align: top;\n",
       "    }\n",
       "\n",
       "    .dataframe thead th {\n",
       "        text-align: right;\n",
       "    }\n",
       "</style>\n",
       "<table border=\"1\" class=\"dataframe\">\n",
       "  <thead>\n",
       "    <tr style=\"text-align: right;\">\n",
       "      <th></th>\n",
       "      <th>onetsoccode</th>\n",
       "      <th>onet_title</th>\n",
       "    </tr>\n",
       "  </thead>\n",
       "  <tbody>\n",
       "    <tr>\n",
       "      <th>0</th>\n",
       "      <td>15-1099.01</td>\n",
       "      <td>Software Quality Assurance Engineers and Testers</td>\n",
       "    </tr>\n",
       "    <tr>\n",
       "      <th>1</th>\n",
       "      <td>15-1099.02</td>\n",
       "      <td>Computer Systems Engineers/Architects</td>\n",
       "    </tr>\n",
       "    <tr>\n",
       "      <th>2</th>\n",
       "      <td>15-1099.03</td>\n",
       "      <td>Network Designers</td>\n",
       "    </tr>\n",
       "    <tr>\n",
       "      <th>3</th>\n",
       "      <td>15-1099.04</td>\n",
       "      <td>Web Developers</td>\n",
       "    </tr>\n",
       "    <tr>\n",
       "      <th>4</th>\n",
       "      <td>15-1099.05</td>\n",
       "      <td>Web Administrators</td>\n",
       "    </tr>\n",
       "  </tbody>\n",
       "</table>\n",
       "</div>"
      ],
      "text/plain": [
       "  onetsoccode                                        onet_title\n",
       "0  15-1099.01  Software Quality Assurance Engineers and Testers\n",
       "1  15-1099.02             Computer Systems Engineers/Architects\n",
       "2  15-1099.03                                 Network Designers\n",
       "3  15-1099.04                                    Web Developers\n",
       "4  15-1099.05                                Web Administrators"
      ]
     },
     "execution_count": 9,
     "metadata": {},
     "output_type": "execute_result"
    }
   ],
   "source": [
    "df_new_work = new_work1.append(new_work2).append(new_work3)\n",
    "df_new_work.reset_index(drop=True, inplace=True)\n",
    "df_new_work.head()"
   ]
  },
  {
   "cell_type": "markdown",
   "metadata": {},
   "source": [
    "## Update SOC Codes"
   ]
  },
  {
   "cell_type": "code",
   "execution_count": 10,
   "metadata": {
    "scrolled": true
   },
   "outputs": [
    {
     "data": {
      "text/html": [
       "<div>\n",
       "<style scoped>\n",
       "    .dataframe tbody tr th:only-of-type {\n",
       "        vertical-align: middle;\n",
       "    }\n",
       "\n",
       "    .dataframe tbody tr th {\n",
       "        vertical-align: top;\n",
       "    }\n",
       "\n",
       "    .dataframe thead th {\n",
       "        text-align: right;\n",
       "    }\n",
       "</style>\n",
       "<table border=\"1\" class=\"dataframe\">\n",
       "  <thead>\n",
       "    <tr style=\"text-align: right;\">\n",
       "      <th></th>\n",
       "      <th>onet_title</th>\n",
       "      <th>onetsoccode</th>\n",
       "    </tr>\n",
       "  </thead>\n",
       "  <tbody>\n",
       "    <tr>\n",
       "      <th>0</th>\n",
       "      <td>Chief Executives</td>\n",
       "      <td>11-1011.00</td>\n",
       "    </tr>\n",
       "    <tr>\n",
       "      <th>1</th>\n",
       "      <td>Chief Sustainability Officers</td>\n",
       "      <td>11-1011.03</td>\n",
       "    </tr>\n",
       "    <tr>\n",
       "      <th>2</th>\n",
       "      <td>General and Operations Managers</td>\n",
       "      <td>11-1021.00</td>\n",
       "    </tr>\n",
       "    <tr>\n",
       "      <th>3</th>\n",
       "      <td>Legislators</td>\n",
       "      <td>11-1031.00</td>\n",
       "    </tr>\n",
       "    <tr>\n",
       "      <th>4</th>\n",
       "      <td>Advertising and Promotions Managers</td>\n",
       "      <td>11-2011.00</td>\n",
       "    </tr>\n",
       "  </tbody>\n",
       "</table>\n",
       "</div>"
      ],
      "text/plain": [
       "                            onet_title onetsoccode\n",
       "0                     Chief Executives  11-1011.00\n",
       "1        Chief Sustainability Officers  11-1011.03\n",
       "2      General and Operations Managers  11-1021.00\n",
       "3                          Legislators  11-1031.00\n",
       "4  Advertising and Promotions Managers  11-2011.00"
      ]
     },
     "execution_count": 10,
     "metadata": {},
     "output_type": "execute_result"
    }
   ],
   "source": [
    "df = pd.read_csv('csv_files/Crosswalks/2009_to_2010_Crosswalk.csv')\n",
    "df.columns = ['onetsoccode2009', 'onet_title', 'onetsoccode', 'onetsoctitle2010']\n",
    "df.drop(['onetsoccode2009', 'onetsoctitle2010'], axis=1, inplace=True)\n",
    "df.drop_duplicates('onet_title', inplace=True)\n",
    "df.head()"
   ]
  },
  {
   "cell_type": "code",
   "execution_count": 11,
   "metadata": {},
   "outputs": [],
   "source": [
    "df_final = df_new_work.merge(df, how='left', on='onet_title')\n",
    "df_final.fillna(' ', inplace=True)"
   ]
  },
  {
   "cell_type": "code",
   "execution_count": 12,
   "metadata": {},
   "outputs": [],
   "source": [
    "x_values = df_final.onetsoccode_x.values\n",
    "y_values = df_final.onetsoccode_y.values\n",
    "for idx, val in enumerate(y_values):\n",
    "    if (x_values[idx] != val) and (val != ' '):\n",
    "        x_values[idx] = val"
   ]
  },
  {
   "cell_type": "code",
   "execution_count": 13,
   "metadata": {},
   "outputs": [],
   "source": [
    "## first update"
   ]
  },
  {
   "cell_type": "code",
   "execution_count": 14,
   "metadata": {},
   "outputs": [
    {
     "data": {
      "text/html": [
       "<div>\n",
       "<style scoped>\n",
       "    .dataframe tbody tr th:only-of-type {\n",
       "        vertical-align: middle;\n",
       "    }\n",
       "\n",
       "    .dataframe tbody tr th {\n",
       "        vertical-align: top;\n",
       "    }\n",
       "\n",
       "    .dataframe thead th {\n",
       "        text-align: right;\n",
       "    }\n",
       "</style>\n",
       "<table border=\"1\" class=\"dataframe\">\n",
       "  <thead>\n",
       "    <tr style=\"text-align: right;\">\n",
       "      <th></th>\n",
       "      <th>onetsoccode</th>\n",
       "      <th>onet_title</th>\n",
       "    </tr>\n",
       "  </thead>\n",
       "  <tbody>\n",
       "    <tr>\n",
       "      <th>0</th>\n",
       "      <td>15-1199.01</td>\n",
       "      <td>Software Quality Assurance Engineers and Testers</td>\n",
       "    </tr>\n",
       "    <tr>\n",
       "      <th>1</th>\n",
       "      <td>15-1199.02</td>\n",
       "      <td>Computer Systems Engineers/Architects</td>\n",
       "    </tr>\n",
       "    <tr>\n",
       "      <th>2</th>\n",
       "      <td>15-1143.00</td>\n",
       "      <td>Network Designers</td>\n",
       "    </tr>\n",
       "    <tr>\n",
       "      <th>3</th>\n",
       "      <td>15-1134.00</td>\n",
       "      <td>Web Developers</td>\n",
       "    </tr>\n",
       "    <tr>\n",
       "      <th>4</th>\n",
       "      <td>15-1199.03</td>\n",
       "      <td>Web Administrators</td>\n",
       "    </tr>\n",
       "  </tbody>\n",
       "</table>\n",
       "</div>"
      ],
      "text/plain": [
       "  onetsoccode                                        onet_title\n",
       "0  15-1199.01  Software Quality Assurance Engineers and Testers\n",
       "1  15-1199.02             Computer Systems Engineers/Architects\n",
       "2  15-1143.00                                 Network Designers\n",
       "3  15-1134.00                                    Web Developers\n",
       "4  15-1199.03                                Web Administrators"
      ]
     },
     "execution_count": 14,
     "metadata": {},
     "output_type": "execute_result"
    }
   ],
   "source": [
    "df_final['onetsoccode_x'] = x_values\n",
    "df_final.drop('onetsoccode_y', axis=1, inplace=True)\n",
    "df_final.rename(columns={'onetsoccode_x': 'onetsoccode'}, inplace=True)\n",
    "df_final.head()"
   ]
  },
  {
   "cell_type": "code",
   "execution_count": 15,
   "metadata": {},
   "outputs": [],
   "source": [
    "## second update"
   ]
  },
  {
   "cell_type": "code",
   "execution_count": 16,
   "metadata": {},
   "outputs": [],
   "source": [
    "df_final = df_final.merge(tax_2010, how='left', on='onet_title')\n",
    "df_final.fillna(' ', inplace=True"
   ]
  },
  {
   "cell_type": "code",
   "execution_count": 17,
   "metadata": {},
   "outputs": [],
   "source": [
    "x_values = df_final.onetsoccode_x.values\n",
    "y_values = df_final.onetsoccode_y.values\n",
    "for idx, val in enumerate(y_values):\n",
    "    if (x_values[idx] != val) and (val != ' '):\n",
    "        x_values[idx] = val"
   ]
  },
  {
   "cell_type": "code",
   "execution_count": 18,
   "metadata": {
    "scrolled": true
   },
   "outputs": [
    {
     "data": {
      "text/html": [
       "<div>\n",
       "<style scoped>\n",
       "    .dataframe tbody tr th:only-of-type {\n",
       "        vertical-align: middle;\n",
       "    }\n",
       "\n",
       "    .dataframe tbody tr th {\n",
       "        vertical-align: top;\n",
       "    }\n",
       "\n",
       "    .dataframe thead th {\n",
       "        text-align: right;\n",
       "    }\n",
       "</style>\n",
       "<table border=\"1\" class=\"dataframe\">\n",
       "  <thead>\n",
       "    <tr style=\"text-align: right;\">\n",
       "      <th></th>\n",
       "      <th>onetsoccode</th>\n",
       "      <th>onet_title</th>\n",
       "    </tr>\n",
       "  </thead>\n",
       "  <tbody>\n",
       "    <tr>\n",
       "      <th>0</th>\n",
       "      <td>15-1199.01</td>\n",
       "      <td>Software Quality Assurance Engineers and Testers</td>\n",
       "    </tr>\n",
       "    <tr>\n",
       "      <th>1</th>\n",
       "      <td>15-1199.02</td>\n",
       "      <td>Computer Systems Engineers/Architects</td>\n",
       "    </tr>\n",
       "    <tr>\n",
       "      <th>2</th>\n",
       "      <td>15-1143.00</td>\n",
       "      <td>Network Designers</td>\n",
       "    </tr>\n",
       "    <tr>\n",
       "      <th>3</th>\n",
       "      <td>15-1134.00</td>\n",
       "      <td>Web Developers</td>\n",
       "    </tr>\n",
       "    <tr>\n",
       "      <th>4</th>\n",
       "      <td>15-1199.03</td>\n",
       "      <td>Web Administrators</td>\n",
       "    </tr>\n",
       "  </tbody>\n",
       "</table>\n",
       "</div>"
      ],
      "text/plain": [
       "  onetsoccode                                        onet_title\n",
       "0  15-1199.01  Software Quality Assurance Engineers and Testers\n",
       "1  15-1199.02             Computer Systems Engineers/Architects\n",
       "2  15-1143.00                                 Network Designers\n",
       "3  15-1134.00                                    Web Developers\n",
       "4  15-1199.03                                Web Administrators"
      ]
     },
     "execution_count": 18,
     "metadata": {},
     "output_type": "execute_result"
    }
   ],
   "source": [
    "df_final['onetsoccode_x'] = x_values\n",
    "df_final.drop('onetsoccode_y', axis=1, inplace=True)\n",
    "df_final.rename(columns={'onetsoccode_x': 'onetsoccode'}, inplace=True)\n",
    "df_final.head()"
   ]
  },
  {
   "cell_type": "code",
   "execution_count": 19,
   "metadata": {
    "scrolled": false
   },
   "outputs": [
    {
     "data": {
      "text/html": [
       "<div>\n",
       "<style scoped>\n",
       "    .dataframe tbody tr th:only-of-type {\n",
       "        vertical-align: middle;\n",
       "    }\n",
       "\n",
       "    .dataframe tbody tr th {\n",
       "        vertical-align: top;\n",
       "    }\n",
       "\n",
       "    .dataframe thead th {\n",
       "        text-align: right;\n",
       "    }\n",
       "</style>\n",
       "<table border=\"1\" class=\"dataframe\">\n",
       "  <thead>\n",
       "    <tr style=\"text-align: right;\">\n",
       "      <th></th>\n",
       "      <th>onetsoccode</th>\n",
       "      <th>onet_title</th>\n",
       "    </tr>\n",
       "  </thead>\n",
       "  <tbody>\n",
       "    <tr>\n",
       "      <th>0</th>\n",
       "      <td>15-1199.01</td>\n",
       "      <td>Software Quality Assurance Engineers and Testers</td>\n",
       "    </tr>\n",
       "    <tr>\n",
       "      <th>1</th>\n",
       "      <td>15-1199.02</td>\n",
       "      <td>Computer Systems Engineers/Architects</td>\n",
       "    </tr>\n",
       "    <tr>\n",
       "      <th>2</th>\n",
       "      <td>15-1143.00</td>\n",
       "      <td>Network Designers</td>\n",
       "    </tr>\n",
       "    <tr>\n",
       "      <th>3</th>\n",
       "      <td>15-1134.00</td>\n",
       "      <td>Web Developers</td>\n",
       "    </tr>\n",
       "    <tr>\n",
       "      <th>4</th>\n",
       "      <td>15-1199.03</td>\n",
       "      <td>Web Administrators</td>\n",
       "    </tr>\n",
       "    <tr>\n",
       "      <th>...</th>\n",
       "      <td>...</td>\n",
       "      <td>...</td>\n",
       "    </tr>\n",
       "    <tr>\n",
       "      <th>168</th>\n",
       "      <td>29-2099.07</td>\n",
       "      <td>Surgical Assistants</td>\n",
       "    </tr>\n",
       "    <tr>\n",
       "      <th>169</th>\n",
       "      <td>31-9097.00</td>\n",
       "      <td>Phlebotomists</td>\n",
       "    </tr>\n",
       "    <tr>\n",
       "      <th>170</th>\n",
       "      <td>43-3099.00</td>\n",
       "      <td>Financial Clerks, All Other</td>\n",
       "    </tr>\n",
       "    <tr>\n",
       "      <th>171</th>\n",
       "      <td>49-2021.00</td>\n",
       "      <td>Radio, Cellular, and Tower Equipment Installer...</td>\n",
       "    </tr>\n",
       "    <tr>\n",
       "      <th>172</th>\n",
       "      <td>51-3099.00</td>\n",
       "      <td>Food Processing Workers, All Other</td>\n",
       "    </tr>\n",
       "  </tbody>\n",
       "</table>\n",
       "<p>173 rows × 2 columns</p>\n",
       "</div>"
      ],
      "text/plain": [
       "    onetsoccode                                         onet_title\n",
       "0    15-1199.01   Software Quality Assurance Engineers and Testers\n",
       "1    15-1199.02              Computer Systems Engineers/Architects\n",
       "2    15-1143.00                                  Network Designers\n",
       "3    15-1134.00                                     Web Developers\n",
       "4    15-1199.03                                 Web Administrators\n",
       "..          ...                                                ...\n",
       "168  29-2099.07                                Surgical Assistants\n",
       "169  31-9097.00                                      Phlebotomists\n",
       "170  43-3099.00                        Financial Clerks, All Other\n",
       "171  49-2021.00  Radio, Cellular, and Tower Equipment Installer...\n",
       "172  51-3099.00                 Food Processing Workers, All Other\n",
       "\n",
       "[173 rows x 2 columns]"
      ]
     },
     "execution_count": 19,
     "metadata": {},
     "output_type": "execute_result"
    }
   ],
   "source": [
    "df_final"
   ]
  },
  {
   "cell_type": "code",
   "execution_count": 20,
   "metadata": {},
   "outputs": [],
   "source": [
    "df_final.to_csv('new_work.csv')"
   ]
  }
 ],
 "metadata": {
  "hide_input": false,
  "kernelspec": {
   "display_name": "Python 3",
   "language": "python",
   "name": "python3"
  },
  "language_info": {
   "codemirror_mode": {
    "name": "ipython",
    "version": 3
   },
   "file_extension": ".py",
   "mimetype": "text/x-python",
   "name": "python",
   "nbconvert_exporter": "python",
   "pygments_lexer": "ipython3",
   "version": "3.8.3"
  },
  "toc": {
   "base_numbering": 1,
   "nav_menu": {},
   "number_sections": true,
   "sideBar": true,
   "skip_h1_title": false,
   "title_cell": "Table of Contents",
   "title_sidebar": "Contents",
   "toc_cell": false,
   "toc_position": {},
   "toc_section_display": true,
   "toc_window_display": false
  },
  "varInspector": {
   "cols": {
    "lenName": 16,
    "lenType": 16,
    "lenVar": 40
   },
   "kernels_config": {
    "python": {
     "delete_cmd_postfix": "",
     "delete_cmd_prefix": "del ",
     "library": "var_list.py",
     "varRefreshCmd": "print(var_dic_list())"
    },
    "r": {
     "delete_cmd_postfix": ") ",
     "delete_cmd_prefix": "rm(",
     "library": "var_list.r",
     "varRefreshCmd": "cat(var_dic_list()) "
    }
   },
   "types_to_exclude": [
    "module",
    "function",
    "builtin_function_or_method",
    "instance",
    "_Feature"
   ],
   "window_display": false
  }
 },
 "nbformat": 4,
 "nbformat_minor": 4
}
